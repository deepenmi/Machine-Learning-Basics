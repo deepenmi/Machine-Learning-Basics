{
  "nbformat": 4,
  "nbformat_minor": 0,
  "metadata": {
    "colab": {
      "name": "XGBoostModel.ipynb",
      "provenance": [],
      "authorship_tag": "ABX9TyPvuPz7vUofR045/3TWiqnU",
      "include_colab_link": true
    },
    "kernelspec": {
      "name": "python3",
      "display_name": "Python 3"
    }
  },
  "cells": [
    {
      "cell_type": "markdown",
      "metadata": {
        "id": "view-in-github",
        "colab_type": "text"
      },
      "source": [
        "<a href=\"https://colab.research.google.com/github/deepenmi/Machine-Learning-Basics/blob/master/XGBoostModel.ipynb\" target=\"_parent\"><img src=\"https://colab.research.google.com/assets/colab-badge.svg\" alt=\"Open In Colab\"/></a>"
      ]
    },
    {
      "cell_type": "code",
      "metadata": {
        "id": "gEYXFv1WZcUA",
        "colab_type": "code",
        "colab": {
          "base_uri": "https://localhost:8080/",
          "height": 70
        },
        "outputId": "57abb7a0-1fe1-49e2-dbb0-adc1f0f14737"
      },
      "source": [
        "pip install xgboost"
      ],
      "execution_count": 1,
      "outputs": [
        {
          "output_type": "stream",
          "text": [
            "Requirement already satisfied: xgboost in /usr/local/lib/python3.6/dist-packages (0.90)\n",
            "Requirement already satisfied: scipy in /usr/local/lib/python3.6/dist-packages (from xgboost) (1.4.1)\n",
            "Requirement already satisfied: numpy in /usr/local/lib/python3.6/dist-packages (from xgboost) (1.17.5)\n"
          ],
          "name": "stdout"
        }
      ]
    },
    {
      "cell_type": "markdown",
      "metadata": {
        "id": "vWVepBcrZofy",
        "colab_type": "text"
      },
      "source": [
        "XGBoost models can be used directly in the scikit-learn framework using the wrapper classes, \n",
        "\n",
        "\n",
        "*   XGBClassifier: For classification\n",
        "*   XGBRegressor: For regression problems\n",
        "\n",
        "\n"
      ]
    },
    {
      "cell_type": "code",
      "metadata": {
        "id": "Q5wvLvI9Z7KK",
        "colab_type": "code",
        "colab": {}
      },
      "source": [
        ""
      ],
      "execution_count": 0,
      "outputs": []
    },
    {
      "cell_type": "markdown",
      "metadata": {
        "id": "FzwcRvwOaPJ7",
        "colab_type": "text"
      },
      "source": [
        "# Get the data\n"
      ]
    },
    {
      "cell_type": "code",
      "metadata": {
        "id": "jtpMup0taRd_",
        "colab_type": "code",
        "colab": {
          "base_uri": "https://localhost:8080/",
          "height": 406
        },
        "outputId": "9c18c2f7-1a23-4fb3-b1e0-b659d6ec9124"
      },
      "source": [
        "import csv\n",
        "import urllib\n",
        "import pandas as pd\n",
        "\n",
        "url = 'https://raw.githubusercontent.com/jbrownlee/Datasets/master/pima-indians-diabetes.csv'\n",
        "csv = urllib.request.urlopen(url).read()\n",
        "with open('data.csv','wb') as fx:\n",
        "  fx.write(csv)\n",
        "dataset = pd.read_csv('data.csv')\n",
        "\n",
        "dataset\n",
        "\n",
        "\n"
      ],
      "execution_count": 22,
      "outputs": [
        {
          "output_type": "execute_result",
          "data": {
            "text/html": [
              "<div>\n",
              "<style scoped>\n",
              "    .dataframe tbody tr th:only-of-type {\n",
              "        vertical-align: middle;\n",
              "    }\n",
              "\n",
              "    .dataframe tbody tr th {\n",
              "        vertical-align: top;\n",
              "    }\n",
              "\n",
              "    .dataframe thead th {\n",
              "        text-align: right;\n",
              "    }\n",
              "</style>\n",
              "<table border=\"1\" class=\"dataframe\">\n",
              "  <thead>\n",
              "    <tr style=\"text-align: right;\">\n",
              "      <th></th>\n",
              "      <th>6</th>\n",
              "      <th>148</th>\n",
              "      <th>72</th>\n",
              "      <th>35</th>\n",
              "      <th>0</th>\n",
              "      <th>33.6</th>\n",
              "      <th>0.627</th>\n",
              "      <th>50</th>\n",
              "      <th>1</th>\n",
              "    </tr>\n",
              "  </thead>\n",
              "  <tbody>\n",
              "    <tr>\n",
              "      <th>0</th>\n",
              "      <td>1</td>\n",
              "      <td>85</td>\n",
              "      <td>66</td>\n",
              "      <td>29</td>\n",
              "      <td>0</td>\n",
              "      <td>26.6</td>\n",
              "      <td>0.351</td>\n",
              "      <td>31</td>\n",
              "      <td>0</td>\n",
              "    </tr>\n",
              "    <tr>\n",
              "      <th>1</th>\n",
              "      <td>8</td>\n",
              "      <td>183</td>\n",
              "      <td>64</td>\n",
              "      <td>0</td>\n",
              "      <td>0</td>\n",
              "      <td>23.3</td>\n",
              "      <td>0.672</td>\n",
              "      <td>32</td>\n",
              "      <td>1</td>\n",
              "    </tr>\n",
              "    <tr>\n",
              "      <th>2</th>\n",
              "      <td>1</td>\n",
              "      <td>89</td>\n",
              "      <td>66</td>\n",
              "      <td>23</td>\n",
              "      <td>94</td>\n",
              "      <td>28.1</td>\n",
              "      <td>0.167</td>\n",
              "      <td>21</td>\n",
              "      <td>0</td>\n",
              "    </tr>\n",
              "    <tr>\n",
              "      <th>3</th>\n",
              "      <td>0</td>\n",
              "      <td>137</td>\n",
              "      <td>40</td>\n",
              "      <td>35</td>\n",
              "      <td>168</td>\n",
              "      <td>43.1</td>\n",
              "      <td>2.288</td>\n",
              "      <td>33</td>\n",
              "      <td>1</td>\n",
              "    </tr>\n",
              "    <tr>\n",
              "      <th>4</th>\n",
              "      <td>5</td>\n",
              "      <td>116</td>\n",
              "      <td>74</td>\n",
              "      <td>0</td>\n",
              "      <td>0</td>\n",
              "      <td>25.6</td>\n",
              "      <td>0.201</td>\n",
              "      <td>30</td>\n",
              "      <td>0</td>\n",
              "    </tr>\n",
              "    <tr>\n",
              "      <th>...</th>\n",
              "      <td>...</td>\n",
              "      <td>...</td>\n",
              "      <td>...</td>\n",
              "      <td>...</td>\n",
              "      <td>...</td>\n",
              "      <td>...</td>\n",
              "      <td>...</td>\n",
              "      <td>...</td>\n",
              "      <td>...</td>\n",
              "    </tr>\n",
              "    <tr>\n",
              "      <th>762</th>\n",
              "      <td>10</td>\n",
              "      <td>101</td>\n",
              "      <td>76</td>\n",
              "      <td>48</td>\n",
              "      <td>180</td>\n",
              "      <td>32.9</td>\n",
              "      <td>0.171</td>\n",
              "      <td>63</td>\n",
              "      <td>0</td>\n",
              "    </tr>\n",
              "    <tr>\n",
              "      <th>763</th>\n",
              "      <td>2</td>\n",
              "      <td>122</td>\n",
              "      <td>70</td>\n",
              "      <td>27</td>\n",
              "      <td>0</td>\n",
              "      <td>36.8</td>\n",
              "      <td>0.340</td>\n",
              "      <td>27</td>\n",
              "      <td>0</td>\n",
              "    </tr>\n",
              "    <tr>\n",
              "      <th>764</th>\n",
              "      <td>5</td>\n",
              "      <td>121</td>\n",
              "      <td>72</td>\n",
              "      <td>23</td>\n",
              "      <td>112</td>\n",
              "      <td>26.2</td>\n",
              "      <td>0.245</td>\n",
              "      <td>30</td>\n",
              "      <td>0</td>\n",
              "    </tr>\n",
              "    <tr>\n",
              "      <th>765</th>\n",
              "      <td>1</td>\n",
              "      <td>126</td>\n",
              "      <td>60</td>\n",
              "      <td>0</td>\n",
              "      <td>0</td>\n",
              "      <td>30.1</td>\n",
              "      <td>0.349</td>\n",
              "      <td>47</td>\n",
              "      <td>1</td>\n",
              "    </tr>\n",
              "    <tr>\n",
              "      <th>766</th>\n",
              "      <td>1</td>\n",
              "      <td>93</td>\n",
              "      <td>70</td>\n",
              "      <td>31</td>\n",
              "      <td>0</td>\n",
              "      <td>30.4</td>\n",
              "      <td>0.315</td>\n",
              "      <td>23</td>\n",
              "      <td>0</td>\n",
              "    </tr>\n",
              "  </tbody>\n",
              "</table>\n",
              "<p>767 rows × 9 columns</p>\n",
              "</div>"
            ],
            "text/plain": [
              "      6  148  72  35    0  33.6  0.627  50  1\n",
              "0     1   85  66  29    0  26.6  0.351  31  0\n",
              "1     8  183  64   0    0  23.3  0.672  32  1\n",
              "2     1   89  66  23   94  28.1  0.167  21  0\n",
              "3     0  137  40  35  168  43.1  2.288  33  1\n",
              "4     5  116  74   0    0  25.6  0.201  30  0\n",
              "..   ..  ...  ..  ..  ...   ...    ...  .. ..\n",
              "762  10  101  76  48  180  32.9  0.171  63  0\n",
              "763   2  122  70  27    0  36.8  0.340  27  0\n",
              "764   5  121  72  23  112  26.2  0.245  30  0\n",
              "765   1  126  60   0    0  30.1  0.349  47  1\n",
              "766   1   93  70  31    0  30.4  0.315  23  0\n",
              "\n",
              "[767 rows x 9 columns]"
            ]
          },
          "metadata": {
            "tags": []
          },
          "execution_count": 22
        }
      ]
    },
    {
      "cell_type": "markdown",
      "metadata": {
        "id": "te1ZSkZUdkfo",
        "colab_type": "text"
      },
      "source": [
        "# Creating a model\n",
        "Train an XGBoost model for classification by constructin it and calling the moel.fit() function\n",
        "*   model = XGBClassifier()\n",
        "*   model.fit(X_train, y_train)\n",
        "*   y_pred = model.predit(X_test)"
      ]
    },
    {
      "cell_type": "code",
      "metadata": {
        "id": "PRxEPgF9eURC",
        "colab_type": "code",
        "colab": {
          "base_uri": "https://localhost:8080/",
          "height": 870
        },
        "outputId": "1de17632-fa35-47a1-b28a-20cf1cb3a9f9"
      },
      "source": [
        "from numpy import loadtxt\n",
        "from xgboost import XGBClassifier\n",
        "from sklearn.model_selection import train_test_split\n",
        "from sklearn.metrics import accuracy_score\n",
        "# load data\n",
        "dataset = loadtxt('data.csv', delimiter=\",\")\n",
        "X = dataset[:,0:8]\n",
        "Y = dataset[:,8]\n",
        "# Split the data in train and test\n",
        "seed = 7\n",
        "test_size = 0.33\n",
        "X_train, X_test, y_train, y_test = train_test_split(X, Y, test_size=test_size, random_state=seed)\n",
        "# Fit model on tranining data\n",
        "model = XGBClassifier()\n",
        "eval_set = [(X_test, y_test)]\n",
        "model.fit(X_train, y_train, early_stopping_rounds=10, eval_metric=\"logloss\", eval_set=eval_set, verbose=True)\n",
        "# maek predictions for test data\n",
        "y_pred = model.predict(X_test)\n",
        "predictions = [round(value) for value in y_pred]\n",
        "# Evaluate predictions\n",
        "accuracy = accuracy_score(y_test, predictions)\n",
        "print(\"Accuracy: %.2f%%\" % (accuracy * 100.0))"
      ],
      "execution_count": 34,
      "outputs": [
        {
          "output_type": "stream",
          "text": [
            "[0]\tvalidation_0-logloss:0.660186\n",
            "Will train until validation_0-logloss hasn't improved in 10 rounds.\n",
            "[1]\tvalidation_0-logloss:0.634854\n",
            "[2]\tvalidation_0-logloss:0.61224\n",
            "[3]\tvalidation_0-logloss:0.593118\n",
            "[4]\tvalidation_0-logloss:0.578303\n",
            "[5]\tvalidation_0-logloss:0.564942\n",
            "[6]\tvalidation_0-logloss:0.555113\n",
            "[7]\tvalidation_0-logloss:0.54499\n",
            "[8]\tvalidation_0-logloss:0.539151\n",
            "[9]\tvalidation_0-logloss:0.531819\n",
            "[10]\tvalidation_0-logloss:0.526065\n",
            "[11]\tvalidation_0-logloss:0.519769\n",
            "[12]\tvalidation_0-logloss:0.514979\n",
            "[13]\tvalidation_0-logloss:0.50927\n",
            "[14]\tvalidation_0-logloss:0.506086\n",
            "[15]\tvalidation_0-logloss:0.503565\n",
            "[16]\tvalidation_0-logloss:0.503591\n",
            "[17]\tvalidation_0-logloss:0.500805\n",
            "[18]\tvalidation_0-logloss:0.497605\n",
            "[19]\tvalidation_0-logloss:0.495328\n",
            "[20]\tvalidation_0-logloss:0.494777\n",
            "[21]\tvalidation_0-logloss:0.494274\n",
            "[22]\tvalidation_0-logloss:0.493333\n",
            "[23]\tvalidation_0-logloss:0.492211\n",
            "[24]\tvalidation_0-logloss:0.491936\n",
            "[25]\tvalidation_0-logloss:0.490578\n",
            "[26]\tvalidation_0-logloss:0.490895\n",
            "[27]\tvalidation_0-logloss:0.490646\n",
            "[28]\tvalidation_0-logloss:0.491911\n",
            "[29]\tvalidation_0-logloss:0.491407\n",
            "[30]\tvalidation_0-logloss:0.488828\n",
            "[31]\tvalidation_0-logloss:0.487867\n",
            "[32]\tvalidation_0-logloss:0.487297\n",
            "[33]\tvalidation_0-logloss:0.487562\n",
            "[34]\tvalidation_0-logloss:0.487789\n",
            "[35]\tvalidation_0-logloss:0.487962\n",
            "[36]\tvalidation_0-logloss:0.488218\n",
            "[37]\tvalidation_0-logloss:0.489582\n",
            "[38]\tvalidation_0-logloss:0.489334\n",
            "[39]\tvalidation_0-logloss:0.490968\n",
            "[40]\tvalidation_0-logloss:0.48978\n",
            "[41]\tvalidation_0-logloss:0.490704\n",
            "[42]\tvalidation_0-logloss:0.492369\n",
            "Stopping. Best iteration:\n",
            "[32]\tvalidation_0-logloss:0.487297\n",
            "\n",
            "Accuracy: 77.56%\n"
          ],
          "name": "stdout"
        }
      ]
    },
    {
      "cell_type": "code",
      "metadata": {
        "id": "zEAztZStfmVQ",
        "colab_type": "code",
        "colab": {}
      },
      "source": [
        ""
      ],
      "execution_count": 0,
      "outputs": []
    },
    {
      "cell_type": "code",
      "metadata": {
        "id": "1G-Mtnzkdu7a",
        "colab_type": "code",
        "colab": {}
      },
      "source": [
        ""
      ],
      "execution_count": 0,
      "outputs": []
    },
    {
      "cell_type": "code",
      "metadata": {
        "id": "xYyI99jSd10H",
        "colab_type": "code",
        "colab": {}
      },
      "source": [
        ""
      ],
      "execution_count": 0,
      "outputs": []
    }
  ]
}