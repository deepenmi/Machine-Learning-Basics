{
  "nbformat": 4,
  "nbformat_minor": 0,
  "metadata": {
    "colab": {
      "name": "TVMarketing-SimpleLinearRegressin.ipynb",
      "provenance": [],
      "toc_visible": true,
      "mount_file_id": "1ApgeJW_GrUlOsnogbNiYhuLZvxCbE1TK",
      "authorship_tag": "ABX9TyMLt9uy7ao4beWOpRmFoYsN",
      "include_colab_link": true
    },
    "kernelspec": {
      "name": "python3",
      "display_name": "Python 3"
    }
  },
  "cells": [
    {
      "cell_type": "markdown",
      "metadata": {
        "id": "view-in-github",
        "colab_type": "text"
      },
      "source": [
        "<a href=\"https://colab.research.google.com/github/deepenmi/Machine-Learning-Basics/blob/master/TVMarketing_SimpleLinearRegressin.ipynb\" target=\"_parent\"><img src=\"https://colab.research.google.com/assets/colab-badge.svg\" alt=\"Open In Colab\"/></a>"
      ]
    },
    {
      "cell_type": "code",
      "metadata": {
        "id": "IJ6uj4yTyc49",
        "colab_type": "code",
        "colab": {}
      },
      "source": [
        ""
      ],
      "execution_count": 0,
      "outputs": []
    },
    {
      "cell_type": "markdown",
      "metadata": {
        "id": "eiWj6leIyiTu",
        "colab_type": "text"
      },
      "source": [
        "# Simple Linear Regression\n",
        "Building a linear regression model to predict 'Sales' using 'TV' as the predictor variable.\n",
        "\n",
        "## **Step 1: Understanding the Data**\n",
        "\n",
        "\n",
        "1.   Importing data using the pandas library\n",
        "2.   Understanding the structure of the data\n",
        "\n",
        "\n"
      ]
    },
    {
      "cell_type": "code",
      "metadata": {
        "id": "y-wv58kPzD8N",
        "colab_type": "code",
        "colab": {}
      },
      "source": [
        "import pandas as pd\n"
      ],
      "execution_count": 0,
      "outputs": []
    },
    {
      "cell_type": "markdown",
      "metadata": {
        "id": "_aN6Jjhu3ePc",
        "colab_type": "text"
      },
      "source": [
        "Data is stored in the google drive. Google drive is mounted and can be seen as **drive/My Drive** when we list the directories.\n",
        "Data is stored in the folder **colabdata** in the google drive."
      ]
    },
    {
      "cell_type": "code",
      "metadata": {
        "id": "gTQgWF7bzGiX",
        "colab_type": "code",
        "colab": {
          "base_uri": "https://localhost:8080/",
          "height": 34
        },
        "outputId": "f063181e-4264-41e3-e4e8-60df4a8d8163"
      },
      "source": [
        "ls"
      ],
      "execution_count": 2,
      "outputs": [
        {
          "output_type": "stream",
          "text": [
            "\u001b[0m\u001b[01;34mdrive\u001b[0m/  \u001b[01;34msample_data\u001b[0m/\n"
          ],
          "name": "stdout"
        }
      ]
    },
    {
      "cell_type": "code",
      "metadata": {
        "id": "OhMuf-XD2KNV",
        "colab_type": "code",
        "colab": {}
      },
      "source": [
        "data = pd.read_csv(\"drive/My Drive/colabdata/tvmarketing.csv\")"
      ],
      "execution_count": 0,
      "outputs": []
    },
    {
      "cell_type": "code",
      "metadata": {
        "id": "XZsX0Wsa3IF1",
        "colab_type": "code",
        "colab": {
          "base_uri": "https://localhost:8080/",
          "height": 204
        },
        "outputId": "1ef9ed68-fb06-4475-824a-1be71825a0a2"
      },
      "source": [
        "# Display the first 5 rows\n",
        "data.head(5)\n",
        "# Display last 5 rows\n",
        "data.tail(5)"
      ],
      "execution_count": 7,
      "outputs": [
        {
          "output_type": "execute_result",
          "data": {
            "text/html": [
              "<div>\n",
              "<style scoped>\n",
              "    .dataframe tbody tr th:only-of-type {\n",
              "        vertical-align: middle;\n",
              "    }\n",
              "\n",
              "    .dataframe tbody tr th {\n",
              "        vertical-align: top;\n",
              "    }\n",
              "\n",
              "    .dataframe thead th {\n",
              "        text-align: right;\n",
              "    }\n",
              "</style>\n",
              "<table border=\"1\" class=\"dataframe\">\n",
              "  <thead>\n",
              "    <tr style=\"text-align: right;\">\n",
              "      <th></th>\n",
              "      <th>TV</th>\n",
              "      <th>Sales</th>\n",
              "    </tr>\n",
              "  </thead>\n",
              "  <tbody>\n",
              "    <tr>\n",
              "      <th>195</th>\n",
              "      <td>38.2</td>\n",
              "      <td>7.6</td>\n",
              "    </tr>\n",
              "    <tr>\n",
              "      <th>196</th>\n",
              "      <td>94.2</td>\n",
              "      <td>9.7</td>\n",
              "    </tr>\n",
              "    <tr>\n",
              "      <th>197</th>\n",
              "      <td>177.0</td>\n",
              "      <td>12.8</td>\n",
              "    </tr>\n",
              "    <tr>\n",
              "      <th>198</th>\n",
              "      <td>283.6</td>\n",
              "      <td>25.5</td>\n",
              "    </tr>\n",
              "    <tr>\n",
              "      <th>199</th>\n",
              "      <td>232.1</td>\n",
              "      <td>13.4</td>\n",
              "    </tr>\n",
              "  </tbody>\n",
              "</table>\n",
              "</div>"
            ],
            "text/plain": [
              "        TV  Sales\n",
              "195   38.2    7.6\n",
              "196   94.2    9.7\n",
              "197  177.0   12.8\n",
              "198  283.6   25.5\n",
              "199  232.1   13.4"
            ]
          },
          "metadata": {
            "tags": []
          },
          "execution_count": 7
        }
      ]
    },
    {
      "cell_type": "code",
      "metadata": {
        "id": "S8YcYaVJ4kt6",
        "colab_type": "code",
        "colab": {
          "base_uri": "https://localhost:8080/",
          "height": 170
        },
        "outputId": "47a6c8ba-756e-4115-ce3e-ef333c12438e"
      },
      "source": [
        "# Checking the columns info\n",
        "data.info()"
      ],
      "execution_count": 8,
      "outputs": [
        {
          "output_type": "stream",
          "text": [
            "<class 'pandas.core.frame.DataFrame'>\n",
            "RangeIndex: 200 entries, 0 to 199\n",
            "Data columns (total 2 columns):\n",
            " #   Column  Non-Null Count  Dtype  \n",
            "---  ------  --------------  -----  \n",
            " 0   TV      200 non-null    float64\n",
            " 1   Sales   200 non-null    float64\n",
            "dtypes: float64(2)\n",
            "memory usage: 3.2 KB\n"
          ],
          "name": "stdout"
        }
      ]
    },
    {
      "cell_type": "code",
      "metadata": {
        "id": "uykFykd94pNR",
        "colab_type": "code",
        "colab": {
          "base_uri": "https://localhost:8080/",
          "height": 34
        },
        "outputId": "860f4710-3a02-48a7-ea04-2a090e2899b3"
      },
      "source": [
        "# Checking the shape of the dataframe (rows,columns)\n",
        "data.shape"
      ],
      "execution_count": 9,
      "outputs": [
        {
          "output_type": "execute_result",
          "data": {
            "text/plain": [
              "(200, 2)"
            ]
          },
          "metadata": {
            "tags": []
          },
          "execution_count": 9
        }
      ]
    },
    {
      "cell_type": "code",
      "metadata": {
        "id": "eknfA1iu4048",
        "colab_type": "code",
        "colab": {
          "base_uri": "https://localhost:8080/",
          "height": 297
        },
        "outputId": "623ab8c6-9c0a-46e5-c72d-ca22875d3e05"
      },
      "source": [
        "# Looking statistical information about the dataframe\n",
        "data.describe()"
      ],
      "execution_count": 10,
      "outputs": [
        {
          "output_type": "execute_result",
          "data": {
            "text/html": [
              "<div>\n",
              "<style scoped>\n",
              "    .dataframe tbody tr th:only-of-type {\n",
              "        vertical-align: middle;\n",
              "    }\n",
              "\n",
              "    .dataframe tbody tr th {\n",
              "        vertical-align: top;\n",
              "    }\n",
              "\n",
              "    .dataframe thead th {\n",
              "        text-align: right;\n",
              "    }\n",
              "</style>\n",
              "<table border=\"1\" class=\"dataframe\">\n",
              "  <thead>\n",
              "    <tr style=\"text-align: right;\">\n",
              "      <th></th>\n",
              "      <th>TV</th>\n",
              "      <th>Sales</th>\n",
              "    </tr>\n",
              "  </thead>\n",
              "  <tbody>\n",
              "    <tr>\n",
              "      <th>count</th>\n",
              "      <td>200.000000</td>\n",
              "      <td>200.000000</td>\n",
              "    </tr>\n",
              "    <tr>\n",
              "      <th>mean</th>\n",
              "      <td>147.042500</td>\n",
              "      <td>14.022500</td>\n",
              "    </tr>\n",
              "    <tr>\n",
              "      <th>std</th>\n",
              "      <td>85.854236</td>\n",
              "      <td>5.217457</td>\n",
              "    </tr>\n",
              "    <tr>\n",
              "      <th>min</th>\n",
              "      <td>0.700000</td>\n",
              "      <td>1.600000</td>\n",
              "    </tr>\n",
              "    <tr>\n",
              "      <th>25%</th>\n",
              "      <td>74.375000</td>\n",
              "      <td>10.375000</td>\n",
              "    </tr>\n",
              "    <tr>\n",
              "      <th>50%</th>\n",
              "      <td>149.750000</td>\n",
              "      <td>12.900000</td>\n",
              "    </tr>\n",
              "    <tr>\n",
              "      <th>75%</th>\n",
              "      <td>218.825000</td>\n",
              "      <td>17.400000</td>\n",
              "    </tr>\n",
              "    <tr>\n",
              "      <th>max</th>\n",
              "      <td>296.400000</td>\n",
              "      <td>27.000000</td>\n",
              "    </tr>\n",
              "  </tbody>\n",
              "</table>\n",
              "</div>"
            ],
            "text/plain": [
              "               TV       Sales\n",
              "count  200.000000  200.000000\n",
              "mean   147.042500   14.022500\n",
              "std     85.854236    5.217457\n",
              "min      0.700000    1.600000\n",
              "25%     74.375000   10.375000\n",
              "50%    149.750000   12.900000\n",
              "75%    218.825000   17.400000\n",
              "max    296.400000   27.000000"
            ]
          },
          "metadata": {
            "tags": []
          },
          "execution_count": 10
        }
      ]
    },
    {
      "cell_type": "markdown",
      "metadata": {
        "id": "fAYV25Yd5CBX",
        "colab_type": "text"
      },
      "source": [
        "## **Visualizing data using seaborn**"
      ]
    },
    {
      "cell_type": "code",
      "metadata": {
        "id": "AbosuLzS48_K",
        "colab_type": "code",
        "colab": {}
      },
      "source": [
        "# Conventioal way to import seaborn\n",
        "import seaborn as sns\n",
        "\n",
        "# To visualize in the notebook\n",
        "%matplotlib inline"
      ],
      "execution_count": 0,
      "outputs": []
    },
    {
      "cell_type": "code",
      "metadata": {
        "id": "wBSRg77x5VeX",
        "colab_type": "code",
        "colab": {
          "base_uri": "https://localhost:8080/",
          "height": 602
        },
        "outputId": "66a7a173-9a42-4f86-8ec4-c35ddba09795"
      },
      "source": [
        "# Visualize the relationship between the features and the response using scatterplots\n",
        "sns.pairplot(data, x_vars=['TV'], y_vars='Sales', size=7, aspect=0.7, kind='scatter')"
      ],
      "execution_count": 13,
      "outputs": [
        {
          "output_type": "stream",
          "text": [
            "/usr/local/lib/python3.6/dist-packages/seaborn/axisgrid.py:2071: UserWarning: The `size` parameter has been renamed to `height`; please update your code.\n",
            "  warnings.warn(msg, UserWarning)\n"
          ],
          "name": "stderr"
        },
        {
          "output_type": "execute_result",
          "data": {
            "text/plain": [
              "<seaborn.axisgrid.PairGrid at 0x7f3d7cbf9cc0>"
            ]
          },
          "metadata": {
            "tags": []
          },
          "execution_count": 13
        },
        {
          "output_type": "display_data",
          "data": {
            "image/png": "[encoded data removed]",
            "text/plain": [
              "<Figure size 352.8x504 with 1 Axes>"
            ]
          },
          "metadata": {
            "tags": [],
            "needs_background": "light"
          }
        }
      ]
    },
    {
      "cell_type": "markdown",
      "metadata": {
        "id": "Wug_u6Xb6G3A",
        "colab_type": "text"
      },
      "source": [
        "## **Performing Simple Linear Regression**\n",
        "\n",
        "y = c + mx\n",
        "\n",
        "The **m** values are called the **model coefficients** or **model parameters**."
      ]
    },
    {
      "cell_type": "markdown",
      "metadata": {
        "id": "KlPgl7if6uex",
        "colab_type": "text"
      },
      "source": [
        "### Generic steps in Model Building using sklearn\n",
        "Generic structure of modeling using scikit-learn library. Broadly, the steps to build any model can be divided as follows:\n",
        "\n",
        "\n",
        "\n",
        "*   **Preparing X and y**\n",
        "\n",
        "\n",
        "1.   The scikit-learn library expects X (feature variable) and y (response variable) to be Numpy arrays.\n",
        "2.   However, X can be a dataframe as Pandas is built over Numpy\n",
        "\n",
        "\n",
        "\n",
        "\n",
        "*   **Splitting Data into training and test Sets**\n",
        "\n"
      ]
    },
    {
      "cell_type": "code",
      "metadata": {
        "id": "tYT91dAn5xTa",
        "colab_type": "code",
        "colab": {}
      },
      "source": [
        "# Putting feature variable to X\n",
        "X = data['TV']\n",
        "y = data['Sales']"
      ],
      "execution_count": 0,
      "outputs": []
    },
    {
      "cell_type": "code",
      "metadata": {
        "id": "9PsokiXP8Q5-",
        "colab_type": "code",
        "colab": {}
      },
      "source": [
        "# random_state is the seed used by the random number generator, it can be any integer.\n",
        "from sklearn.model_selection import train_test_split\n",
        "# Note: sklearn.cross_validation is deprecated therefore, it will give error."
      ],
      "execution_count": 0,
      "outputs": []
    },
    {
      "cell_type": "code",
      "metadata": {
        "id": "5TcbAvir8t6s",
        "colab_type": "code",
        "colab": {}
      },
      "source": [
        "X_train, X_test, y_train, y_test = train_test_split(X,y,train_size=0.7, random_state=100)"
      ],
      "execution_count": 0,
      "outputs": []
    },
    {
      "cell_type": "code",
      "metadata": {
        "id": "Sdgrklbc9FMF",
        "colab_type": "code",
        "colab": {
          "base_uri": "https://localhost:8080/",
          "height": 34
        },
        "outputId": "c4acf72e-a2f8-4611-fb8a-5c112e82e13b"
      },
      "source": [
        "train_test_split"
      ],
      "execution_count": 23,
      "outputs": [
        {
          "output_type": "execute_result",
          "data": {
            "text/plain": [
              "<function sklearn.model_selection._split.train_test_split>"
            ]
          },
          "metadata": {
            "tags": []
          },
          "execution_count": 23
        }
      ]
    },
    {
      "cell_type": "code",
      "metadata": {
        "id": "j7Zj8Me69JQW",
        "colab_type": "code",
        "colab": {
          "base_uri": "https://localhost:8080/",
          "height": 85
        },
        "outputId": "15c27f7b-4d6d-4967-9683-53ac43a61ca7"
      },
      "source": [
        "print(X_train.shape)\n",
        "print(y_train.shape)\n",
        "print(X_test.shape)\n",
        "print(y_test.shape)"
      ],
      "execution_count": 24,
      "outputs": [
        {
          "output_type": "stream",
          "text": [
            "(140,)\n",
            "(140,)\n",
            "(60,)\n",
            "(60,)\n"
          ],
          "name": "stdout"
        }
      ]
    },
    {
      "cell_type": "code",
      "metadata": {
        "id": "7wcD13O29UmA",
        "colab_type": "code",
        "colab": {}
      },
      "source": [
        "# It is general convention in scikit-learn that observations are rows, while features are columns.\n",
        "# This is needed only when you are using a singe feature; in this case, 'TV'.\n",
        "\n",
        "import numpy as np\n",
        "\n",
        "X_train = X_train[:, np.newaxis]\n",
        "X_test = X_test[:,np.newaxis]"
      ],
      "execution_count": 0,
      "outputs": []
    },
    {
      "cell_type": "markdown",
      "metadata": {
        "id": "x6SaC6i4916U",
        "colab_type": "text"
      },
      "source": [
        "## **Performing Linear Regression**"
      ]
    },
    {
      "cell_type": "code",
      "metadata": {
        "id": "5I0BE-La9yoD",
        "colab_type": "code",
        "colab": {
          "base_uri": "https://localhost:8080/",
          "height": 34
        },
        "outputId": "521ebb01-0748-44c9-f3fd-b3af7f7121d5"
      },
      "source": [
        "# import LinearRegression from sklearn\n",
        "from sklearn.linear_model import LinearRegression\n",
        "# Representing LinearRegression as lr(Creating LinearRegression Object)\n",
        "lr = LinearRegression()\n",
        "\n",
        "# Fit the model using lr.fit()\n",
        "lr.fit(X_train, y_train)"
      ],
      "execution_count": 26,
      "outputs": [
        {
          "output_type": "execute_result",
          "data": {
            "text/plain": [
              "LinearRegression(copy_X=True, fit_intercept=True, n_jobs=None, normalize=False)"
            ]
          },
          "metadata": {
            "tags": []
          },
          "execution_count": 26
        }
      ]
    },
    {
      "cell_type": "markdown",
      "metadata": {
        "id": "zX4aJ9PK-Van",
        "colab_type": "text"
      },
      "source": [
        "## **Coefficient Calculation**"
      ]
    },
    {
      "cell_type": "code",
      "metadata": {
        "id": "uDnWXppu8feY",
        "colab_type": "code",
        "colab": {
          "base_uri": "https://localhost:8080/",
          "height": 51
        },
        "outputId": "ae295a6f-c86f-423c-e156-bac63d1eb41c"
      },
      "source": [
        "# Print the intercept and coefficients\n",
        "print(lr.intercept_)\n",
        "print(lr.coef_)"
      ],
      "execution_count": 27,
      "outputs": [
        {
          "output_type": "stream",
          "text": [
            "6.98966585741168\n",
            "[0.04649736]\n"
          ],
          "name": "stdout"
        }
      ]
    },
    {
      "cell_type": "markdown",
      "metadata": {
        "id": "ij8VLZiG-mTh",
        "colab_type": "text"
      },
      "source": [
        "y = 6.98966585741168 + 0.04649736 * TV\n",
        "\n",
        "The above equation can be used to predict the sales value."
      ]
    },
    {
      "cell_type": "markdown",
      "metadata": {
        "id": "S2_xz0Xw-3zg",
        "colab_type": "text"
      },
      "source": [
        "## **Predictions**"
      ]
    },
    {
      "cell_type": "code",
      "metadata": {
        "id": "ICssys8m8NXN",
        "colab_type": "code",
        "colab": {}
      },
      "source": [
        "# Making predictions on the testing set\n",
        "y_pred = lr.predict(X_test)\n"
      ],
      "execution_count": 0,
      "outputs": []
    },
    {
      "cell_type": "markdown",
      "metadata": {
        "id": "uDJu0gon_DkF",
        "colab_type": "text"
      },
      "source": [
        "## **Computing RMSE and R^2 Values**"
      ]
    },
    {
      "cell_type": "code",
      "metadata": {
        "id": "RVXvpmpw_A-T",
        "colab_type": "code",
        "colab": {
          "base_uri": "https://localhost:8080/",
          "height": 333
        },
        "outputId": "7b62241f-23e2-4d18-91ec-457d20396edb"
      },
      "source": [
        "# Actual Vs Predicted\n",
        "import matplotlib.pyplot as plt\n",
        "c = [i for i in range(1,61,1)]\n",
        "fig = plt.figure()\n",
        "plt.plot(c, y_test, color=\"blue\", linewidth=2.5, linestyle=\"-\")\n",
        "plt.plot(c, y_pred, color=\"red\", linewidth=2.5, linestyle=\"-\")\n",
        "fig.suptitle('Actual and Predicted', fontsize=20)\n",
        "plt.xlabel('Index', fontsize=18)\n",
        "plt.ylabel('Sales', fontsize=16)"
      ],
      "execution_count": 30,
      "outputs": [
        {
          "output_type": "execute_result",
          "data": {
            "text/plain": [
              "Text(0, 0.5, 'Sales')"
            ]
          },
          "metadata": {
            "tags": []
          },
          "execution_count": 30
        },
        {
          "output_type": "display_data",
          "data": {
            "image/png": "[encoded data removed]",
            "text/plain": [
              "<Figure size 432x288 with 1 Axes>"
            ]
          },
          "metadata": {
            "tags": [],
            "needs_background": "light"
          }
        }
      ]
    },
    {
      "cell_type": "markdown",
      "metadata": {
        "id": "WvlO8UT3ABZ_",
        "colab_type": "text"
      },
      "source": [
        "## **Error Terms**\n"
      ]
    },
    {
      "cell_type": "code",
      "metadata": {
        "id": "PmQAnAiA_xin",
        "colab_type": "code",
        "colab": {
          "base_uri": "https://localhost:8080/",
          "height": 333
        },
        "outputId": "26b5678f-e9dd-40d6-ca93-b084333c8b36"
      },
      "source": [
        "c = [i for i in range(1,61,1)]\n",
        "fig = plt.figure()\n",
        "plt.plot(c, y_test-y_pred, color=\"blue\", linewidth=2.5, linestyle=\"-\")\n",
        "fig.suptitle('Error Terms', fontsize=20)\n",
        "plt.xlabel('Index', fontsize=18)\n",
        "plt.ylabel('ytest-ypred', fontsize=16)"
      ],
      "execution_count": 31,
      "outputs": [
        {
          "output_type": "execute_result",
          "data": {
            "text/plain": [
              "Text(0, 0.5, 'ytest-ypred')"
            ]
          },
          "metadata": {
            "tags": []
          },
          "execution_count": 31
        },
        {
          "output_type": "display_data",
          "data": {
            "image/png": "[encoded data removed]",
            "text/plain": [
              "<Figure size 432x288 with 1 Axes>"
            ]
          },
          "metadata": {
            "tags": [],
            "needs_background": "light"
          }
        }
      ]
    },
    {
      "cell_type": "code",
      "metadata": {
        "id": "BOWziumS8LI6",
        "colab_type": "code",
        "colab": {}
      },
      "source": [
        "from sklearn.metrics import mean_squared_error, r2_score\n",
        "mse = mean_squared_error(y_test,y_pred)"
      ],
      "execution_count": 0,
      "outputs": []
    },
    {
      "cell_type": "code",
      "metadata": {
        "id": "zDSidSaV5TV_",
        "colab_type": "code",
        "colab": {}
      },
      "source": [
        "r_squared = r2_score(y_test,y_pred)"
      ],
      "execution_count": 0,
      "outputs": []
    },
    {
      "cell_type": "code",
      "metadata": {
        "id": "FDWzk4UxAuyv",
        "colab_type": "code",
        "colab": {
          "base_uri": "https://localhost:8080/",
          "height": 51
        },
        "outputId": "ae979833-0921-43a8-b9b3-8913e1b3d9cf"
      },
      "source": [
        "print('Mean Squared Error : ', mse)\n",
        "print('R Squared Value : ', r_squared)\n"
      ],
      "execution_count": 34,
      "outputs": [
        {
          "output_type": "stream",
          "text": [
            "Mean Squared Error :  7.975798532854851\n",
            "R Squared Value :  0.5942987267783302\n"
          ],
          "name": "stdout"
        }
      ]
    },
    {
      "cell_type": "code",
      "metadata": {
        "id": "yFANX4tuA5cn",
        "colab_type": "code",
        "colab": {
          "base_uri": "https://localhost:8080/",
          "height": 296
        },
        "outputId": "5ccbbf7c-bd3f-4da6-a931-3cafd3dd8f46"
      },
      "source": [
        "plt.scatter(y_test,y_pred)\n",
        "plt.xlabel('Y Test')\n",
        "plt.ylabel('Predicted Y')"
      ],
      "execution_count": 35,
      "outputs": [
        {
          "output_type": "execute_result",
          "data": {
            "text/plain": [
              "Text(0, 0.5, 'Predicted Y')"
            ]
          },
          "metadata": {
            "tags": []
          },
          "execution_count": 35
        },
        {
          "output_type": "display_data",
          "data": {
            "image/png": "[encoded data removed]",
            "text/plain": [
              "<Figure size 432x288 with 1 Axes>"
            ]
          },
          "metadata": {
            "tags": [],
            "needs_background": "light"
          }
        }
      ]
    },
    {
      "cell_type": "code",
      "metadata": {
        "id": "7z7TI1OoBTiL",
        "colab_type": "code",
        "colab": {}
      },
      "source": [
        ""
      ],
      "execution_count": 0,
      "outputs": []
    }
  ]
}