{
  "nbformat": 4,
  "nbformat_minor": 0,
  "metadata": {
    "colab": {
      "name": "UCI-HeartDisease-EDA.ipynb",
      "provenance": [],
      "collapsed_sections": [],
      "authorship_tag": "ABX9TyNeOn9RQFR3Zl02K/5xCJev",
      "include_colab_link": true
    },
    "kernelspec": {
      "name": "python3",
      "display_name": "Python 3"
    }
  },
  "cells": [
    {
      "cell_type": "markdown",
      "metadata": {
        "id": "view-in-github",
        "colab_type": "text"
      },
      "source": [
        "<a href=\"https://colab.research.google.com/github/deepenmi/Machine-Learning-Basics/blob/master/UCI_HeartDisease_EDA.ipynb\" target=\"_parent\"><img src=\"https://colab.research.google.com/assets/colab-badge.svg\" alt=\"Open In Colab\"/></a>"
      ]
    },
    {
      "cell_type": "markdown",
      "metadata": {
        "id": "Lq624TZiLQMK",
        "colab_type": "text"
      },
      "source": [
        "# Import Statements\n",
        "In this section, I am importing all the packages that I will be using to create a model to predict the heart disease from the cleaned UCI heart disease dataset.\n"
      ]
    },
    {
      "cell_type": "code",
      "metadata": {
        "id": "OC9Cgw5h7SpD",
        "colab_type": "code",
        "colab": {
          "base_uri": "https://localhost:8080/",
          "height": 81
        },
        "outputId": "d40df37d-1510-4bb0-b2ca-efacc71816e4"
      },
      "source": [
        "\n",
        "import os\n",
        "import numpy as np\n",
        "import pandas as pd\n",
        "from keras.layers import Dense\n",
        "import matplotlib.pyplot as plt\n",
        "import tensorflow as tf\n",
        "from tensorflow.python.keras.models import Sequential\n",
        "from tensorflow.python.keras.layers import Dense\n",
        "from tensorflow.python.keras.optimizers import Adam\n",
        "from sklearn.model_selection import train_test_split\n",
        "from sklearn.metrics import classification_report, accuracy_score\n"
      ],
      "execution_count": 1,
      "outputs": [
        {
          "output_type": "stream",
          "text": [
            "Using TensorFlow backend.\n"
          ],
          "name": "stderr"
        },
        {
          "output_type": "display_data",
          "data": {
            "text/html": [
              "<p style=\"color: red;\">\n",
              "The default version of TensorFlow in Colab will soon switch to TensorFlow 2.x.<br>\n",
              "We recommend you <a href=\"https://www.tensorflow.org/guide/migrate\" target=\"_blank\">upgrade</a> now \n",
              "or ensure your notebook will continue to use TensorFlow 1.x via the <code>%tensorflow_version 1.x</code> magic:\n",
              "<a href=\"https://colab.research.google.com/notebooks/tensorflow_version.ipynb\" target=\"_blank\">more info</a>.</p>\n"
            ],
            "text/plain": [
              "<IPython.core.display.HTML object>"
            ]
          },
          "metadata": {
            "tags": []
          }
        }
      ]
    },
    {
      "cell_type": "markdown",
      "metadata": {
        "id": "lFTs6nHuM-c7",
        "colab_type": "text"
      },
      "source": [
        "Uploaded the heart.csv file in the google colab and checking the if the files resides in the current directory or not using listdir() function."
      ]
    },
    {
      "cell_type": "code",
      "metadata": {
        "id": "qt1xK2o0-LbP",
        "colab_type": "code",
        "colab": {
          "base_uri": "https://localhost:8080/",
          "height": 34
        },
        "outputId": "8c0cd113-0b57-4761-adaa-ba21f372637e"
      },
      "source": [
        "print(os.listdir())\n",
        "np.random.seed(1)"
      ],
      "execution_count": 69,
      "outputs": [
        {
          "output_type": "stream",
          "text": [
            "['.config', 'heart.csv', 'sample_data']\n"
          ],
          "name": "stdout"
        }
      ]
    },
    {
      "cell_type": "markdown",
      "metadata": {
        "id": "bigZYF67Neoz",
        "colab_type": "text"
      },
      "source": [
        "# Read CSV data\n",
        "Reading csv data file into pandas data frame and displaying the first 5 rows from the dataframe using head() function."
      ]
    },
    {
      "cell_type": "code",
      "metadata": {
        "id": "eDqOBuqU-YSF",
        "colab_type": "code",
        "colab": {
          "base_uri": "https://localhost:8080/",
          "height": 158
        },
        "outputId": "e7640b1b-4c80-45b1-ec50-6e190de16685"
      },
      "source": [
        "data = pd.read_csv(\"heart.csv\")\n",
        "print(data.head(5))"
      ],
      "execution_count": 70,
      "outputs": [
        {
          "output_type": "stream",
          "text": [
            "   age  sex  cp  trestbps  chol  fbs  ...  exang  oldpeak  slope  ca  thal  target\n",
            "0   63    1   3       145   233    1  ...      0      2.3      0   0     1       1\n",
            "1   37    1   2       130   250    0  ...      0      3.5      0   0     2       1\n",
            "2   41    0   1       130   204    0  ...      0      1.4      2   0     2       1\n",
            "3   56    1   1       120   236    0  ...      0      0.8      2   0     2       1\n",
            "4   57    0   0       120   354    0  ...      1      0.6      2   0     2       1\n",
            "\n",
            "[5 rows x 14 columns]\n"
          ],
          "name": "stdout"
        }
      ]
    },
    {
      "cell_type": "markdown",
      "metadata": {
        "id": "AEepDQMYN2_Z",
        "colab_type": "text"
      },
      "source": [
        "Checking the datatypes of the data to check for any categorical value and see if we need to encode it to numeric value."
      ]
    },
    {
      "cell_type": "code",
      "metadata": {
        "id": "PWVQctBj-geQ",
        "colab_type": "code",
        "colab": {
          "base_uri": "https://localhost:8080/",
          "height": 283
        },
        "outputId": "98d662da-b285-40a7-8fc3-d49416ba60b5"
      },
      "source": [
        "print(data.dtypes)"
      ],
      "execution_count": 5,
      "outputs": [
        {
          "output_type": "stream",
          "text": [
            "age           int64\n",
            "sex           int64\n",
            "cp            int64\n",
            "trestbps      int64\n",
            "chol          int64\n",
            "fbs           int64\n",
            "restecg       int64\n",
            "thalach       int64\n",
            "exang         int64\n",
            "oldpeak     float64\n",
            "slope         int64\n",
            "ca            int64\n",
            "thal          int64\n",
            "target        int64\n",
            "dtype: object\n"
          ],
          "name": "stdout"
        }
      ]
    },
    {
      "cell_type": "markdown",
      "metadata": {
        "id": "8stl7Y9-OhEM",
        "colab_type": "text"
      },
      "source": [
        "Creating and input (X) and output (Y) variable and assigining the data from the dataframe to these variables. All column except the target column is assigned to the X input variable and the values from the target column is assigned to the Y output variable"
      ]
    },
    {
      "cell_type": "code",
      "metadata": {
        "id": "iI5I4eU7-k9n",
        "colab_type": "code",
        "colab": {
          "base_uri": "https://localhost:8080/",
          "height": 406
        },
        "outputId": "589a01f8-f932-4259-b17b-0ea35d6f5603"
      },
      "source": [
        "X = data.drop(['target'], axis=1)\n",
        "X"
      ],
      "execution_count": 6,
      "outputs": [
        {
          "output_type": "execute_result",
          "data": {
            "text/html": [
              "<div>\n",
              "<style scoped>\n",
              "    .dataframe tbody tr th:only-of-type {\n",
              "        vertical-align: middle;\n",
              "    }\n",
              "\n",
              "    .dataframe tbody tr th {\n",
              "        vertical-align: top;\n",
              "    }\n",
              "\n",
              "    .dataframe thead th {\n",
              "        text-align: right;\n",
              "    }\n",
              "</style>\n",
              "<table border=\"1\" class=\"dataframe\">\n",
              "  <thead>\n",
              "    <tr style=\"text-align: right;\">\n",
              "      <th></th>\n",
              "      <th>age</th>\n",
              "      <th>sex</th>\n",
              "      <th>cp</th>\n",
              "      <th>trestbps</th>\n",
              "      <th>chol</th>\n",
              "      <th>fbs</th>\n",
              "      <th>restecg</th>\n",
              "      <th>thalach</th>\n",
              "      <th>exang</th>\n",
              "      <th>oldpeak</th>\n",
              "      <th>slope</th>\n",
              "      <th>ca</th>\n",
              "      <th>thal</th>\n",
              "    </tr>\n",
              "  </thead>\n",
              "  <tbody>\n",
              "    <tr>\n",
              "      <th>0</th>\n",
              "      <td>63</td>\n",
              "      <td>1</td>\n",
              "      <td>3</td>\n",
              "      <td>145</td>\n",
              "      <td>233</td>\n",
              "      <td>1</td>\n",
              "      <td>0</td>\n",
              "      <td>150</td>\n",
              "      <td>0</td>\n",
              "      <td>2.3</td>\n",
              "      <td>0</td>\n",
              "      <td>0</td>\n",
              "      <td>1</td>\n",
              "    </tr>\n",
              "    <tr>\n",
              "      <th>1</th>\n",
              "      <td>37</td>\n",
              "      <td>1</td>\n",
              "      <td>2</td>\n",
              "      <td>130</td>\n",
              "      <td>250</td>\n",
              "      <td>0</td>\n",
              "      <td>1</td>\n",
              "      <td>187</td>\n",
              "      <td>0</td>\n",
              "      <td>3.5</td>\n",
              "      <td>0</td>\n",
              "      <td>0</td>\n",
              "      <td>2</td>\n",
              "    </tr>\n",
              "    <tr>\n",
              "      <th>2</th>\n",
              "      <td>41</td>\n",
              "      <td>0</td>\n",
              "      <td>1</td>\n",
              "      <td>130</td>\n",
              "      <td>204</td>\n",
              "      <td>0</td>\n",
              "      <td>0</td>\n",
              "      <td>172</td>\n",
              "      <td>0</td>\n",
              "      <td>1.4</td>\n",
              "      <td>2</td>\n",
              "      <td>0</td>\n",
              "      <td>2</td>\n",
              "    </tr>\n",
              "    <tr>\n",
              "      <th>3</th>\n",
              "      <td>56</td>\n",
              "      <td>1</td>\n",
              "      <td>1</td>\n",
              "      <td>120</td>\n",
              "      <td>236</td>\n",
              "      <td>0</td>\n",
              "      <td>1</td>\n",
              "      <td>178</td>\n",
              "      <td>0</td>\n",
              "      <td>0.8</td>\n",
              "      <td>2</td>\n",
              "      <td>0</td>\n",
              "      <td>2</td>\n",
              "    </tr>\n",
              "    <tr>\n",
              "      <th>4</th>\n",
              "      <td>57</td>\n",
              "      <td>0</td>\n",
              "      <td>0</td>\n",
              "      <td>120</td>\n",
              "      <td>354</td>\n",
              "      <td>0</td>\n",
              "      <td>1</td>\n",
              "      <td>163</td>\n",
              "      <td>1</td>\n",
              "      <td>0.6</td>\n",
              "      <td>2</td>\n",
              "      <td>0</td>\n",
              "      <td>2</td>\n",
              "    </tr>\n",
              "    <tr>\n",
              "      <th>...</th>\n",
              "      <td>...</td>\n",
              "      <td>...</td>\n",
              "      <td>...</td>\n",
              "      <td>...</td>\n",
              "      <td>...</td>\n",
              "      <td>...</td>\n",
              "      <td>...</td>\n",
              "      <td>...</td>\n",
              "      <td>...</td>\n",
              "      <td>...</td>\n",
              "      <td>...</td>\n",
              "      <td>...</td>\n",
              "      <td>...</td>\n",
              "    </tr>\n",
              "    <tr>\n",
              "      <th>298</th>\n",
              "      <td>57</td>\n",
              "      <td>0</td>\n",
              "      <td>0</td>\n",
              "      <td>140</td>\n",
              "      <td>241</td>\n",
              "      <td>0</td>\n",
              "      <td>1</td>\n",
              "      <td>123</td>\n",
              "      <td>1</td>\n",
              "      <td>0.2</td>\n",
              "      <td>1</td>\n",
              "      <td>0</td>\n",
              "      <td>3</td>\n",
              "    </tr>\n",
              "    <tr>\n",
              "      <th>299</th>\n",
              "      <td>45</td>\n",
              "      <td>1</td>\n",
              "      <td>3</td>\n",
              "      <td>110</td>\n",
              "      <td>264</td>\n",
              "      <td>0</td>\n",
              "      <td>1</td>\n",
              "      <td>132</td>\n",
              "      <td>0</td>\n",
              "      <td>1.2</td>\n",
              "      <td>1</td>\n",
              "      <td>0</td>\n",
              "      <td>3</td>\n",
              "    </tr>\n",
              "    <tr>\n",
              "      <th>300</th>\n",
              "      <td>68</td>\n",
              "      <td>1</td>\n",
              "      <td>0</td>\n",
              "      <td>144</td>\n",
              "      <td>193</td>\n",
              "      <td>1</td>\n",
              "      <td>1</td>\n",
              "      <td>141</td>\n",
              "      <td>0</td>\n",
              "      <td>3.4</td>\n",
              "      <td>1</td>\n",
              "      <td>2</td>\n",
              "      <td>3</td>\n",
              "    </tr>\n",
              "    <tr>\n",
              "      <th>301</th>\n",
              "      <td>57</td>\n",
              "      <td>1</td>\n",
              "      <td>0</td>\n",
              "      <td>130</td>\n",
              "      <td>131</td>\n",
              "      <td>0</td>\n",
              "      <td>1</td>\n",
              "      <td>115</td>\n",
              "      <td>1</td>\n",
              "      <td>1.2</td>\n",
              "      <td>1</td>\n",
              "      <td>1</td>\n",
              "      <td>3</td>\n",
              "    </tr>\n",
              "    <tr>\n",
              "      <th>302</th>\n",
              "      <td>57</td>\n",
              "      <td>0</td>\n",
              "      <td>1</td>\n",
              "      <td>130</td>\n",
              "      <td>236</td>\n",
              "      <td>0</td>\n",
              "      <td>0</td>\n",
              "      <td>174</td>\n",
              "      <td>0</td>\n",
              "      <td>0.0</td>\n",
              "      <td>1</td>\n",
              "      <td>1</td>\n",
              "      <td>2</td>\n",
              "    </tr>\n",
              "  </tbody>\n",
              "</table>\n",
              "<p>303 rows × 13 columns</p>\n",
              "</div>"
            ],
            "text/plain": [
              "     age  sex  cp  trestbps  chol  ...  exang  oldpeak  slope  ca  thal\n",
              "0     63    1   3       145   233  ...      0      2.3      0   0     1\n",
              "1     37    1   2       130   250  ...      0      3.5      0   0     2\n",
              "2     41    0   1       130   204  ...      0      1.4      2   0     2\n",
              "3     56    1   1       120   236  ...      0      0.8      2   0     2\n",
              "4     57    0   0       120   354  ...      1      0.6      2   0     2\n",
              "..   ...  ...  ..       ...   ...  ...    ...      ...    ...  ..   ...\n",
              "298   57    0   0       140   241  ...      1      0.2      1   0     3\n",
              "299   45    1   3       110   264  ...      0      1.2      1   0     3\n",
              "300   68    1   0       144   193  ...      0      3.4      1   2     3\n",
              "301   57    1   0       130   131  ...      1      1.2      1   1     3\n",
              "302   57    0   1       130   236  ...      0      0.0      1   1     2\n",
              "\n",
              "[303 rows x 13 columns]"
            ]
          },
          "metadata": {
            "tags": []
          },
          "execution_count": 6
        }
      ]
    },
    {
      "cell_type": "code",
      "metadata": {
        "id": "iZzAu4X3-6Se",
        "colab_type": "code",
        "colab": {
          "base_uri": "https://localhost:8080/",
          "height": 265
        },
        "outputId": "42b7a90d-4613-4c87-bb4f-e5cc6b8a8b41"
      },
      "source": [
        "Y=data.target.values\n",
        "Y"
      ],
      "execution_count": 7,
      "outputs": [
        {
          "output_type": "execute_result",
          "data": {
            "text/plain": [
              "array([1, 1, 1, 1, 1, 1, 1, 1, 1, 1, 1, 1, 1, 1, 1, 1, 1, 1, 1, 1, 1, 1,\n",
              "       1, 1, 1, 1, 1, 1, 1, 1, 1, 1, 1, 1, 1, 1, 1, 1, 1, 1, 1, 1, 1, 1,\n",
              "       1, 1, 1, 1, 1, 1, 1, 1, 1, 1, 1, 1, 1, 1, 1, 1, 1, 1, 1, 1, 1, 1,\n",
              "       1, 1, 1, 1, 1, 1, 1, 1, 1, 1, 1, 1, 1, 1, 1, 1, 1, 1, 1, 1, 1, 1,\n",
              "       1, 1, 1, 1, 1, 1, 1, 1, 1, 1, 1, 1, 1, 1, 1, 1, 1, 1, 1, 1, 1, 1,\n",
              "       1, 1, 1, 1, 1, 1, 1, 1, 1, 1, 1, 1, 1, 1, 1, 1, 1, 1, 1, 1, 1, 1,\n",
              "       1, 1, 1, 1, 1, 1, 1, 1, 1, 1, 1, 1, 1, 1, 1, 1, 1, 1, 1, 1, 1, 1,\n",
              "       1, 1, 1, 1, 1, 1, 1, 1, 1, 1, 1, 0, 0, 0, 0, 0, 0, 0, 0, 0, 0, 0,\n",
              "       0, 0, 0, 0, 0, 0, 0, 0, 0, 0, 0, 0, 0, 0, 0, 0, 0, 0, 0, 0, 0, 0,\n",
              "       0, 0, 0, 0, 0, 0, 0, 0, 0, 0, 0, 0, 0, 0, 0, 0, 0, 0, 0, 0, 0, 0,\n",
              "       0, 0, 0, 0, 0, 0, 0, 0, 0, 0, 0, 0, 0, 0, 0, 0, 0, 0, 0, 0, 0, 0,\n",
              "       0, 0, 0, 0, 0, 0, 0, 0, 0, 0, 0, 0, 0, 0, 0, 0, 0, 0, 0, 0, 0, 0,\n",
              "       0, 0, 0, 0, 0, 0, 0, 0, 0, 0, 0, 0, 0, 0, 0, 0, 0, 0, 0, 0, 0, 0,\n",
              "       0, 0, 0, 0, 0, 0, 0, 0, 0, 0, 0, 0, 0, 0, 0, 0, 0])"
            ]
          },
          "metadata": {
            "tags": []
          },
          "execution_count": 7
        }
      ]
    },
    {
      "cell_type": "markdown",
      "metadata": {
        "id": "oscAsgD9PBq5",
        "colab_type": "text"
      },
      "source": [
        "# Creating Train, Validation and Test dataset\n",
        "Using the train_test_split method from the sklearn package to split the dataset into train, validation and test set. First the dataset is splitted into training set(90%) and validation set (10%). Then a test set is created by again splitting the new training set data. "
      ]
    },
    {
      "cell_type": "code",
      "metadata": {
        "id": "yhqHVH2m--Z4",
        "colab_type": "code",
        "colab": {}
      },
      "source": [
        "X_train, X_test, Y_train, Y_test = train_test_split(X,Y, test_size=0.1, random_state=1)\n",
        "X_train,X_val, Y_train, Y_val = train_test_split(X_train,Y_train, test_size=0.1, random_state=1)"
      ],
      "execution_count": 0,
      "outputs": []
    },
    {
      "cell_type": "markdown",
      "metadata": {
        "id": "zYTr3K0MPzqb",
        "colab_type": "text"
      },
      "source": [
        "Printing the size of all the splitted datasets."
      ]
    },
    {
      "cell_type": "code",
      "metadata": {
        "id": "9fIr-VKy_PG1",
        "colab_type": "code",
        "colab": {
          "base_uri": "https://localhost:8080/",
          "height": 123
        },
        "outputId": "418601a9-3714-4241-994c-cffaa0abd540"
      },
      "source": [
        "print(\"Train Features Size:\", X_train.shape)\n",
        "print(\"Validation Features Size:\", X_val.shape)\n",
        "print(\"Test Features Size:\", X_test.shape)\n",
        "print(\"Train Labels Size:\", Y_train.shape)\n",
        "print(\"Validations Labels Size:\", Y_val.shape)\n",
        "print(\"Test Labels Size:\", Y_test.shape)"
      ],
      "execution_count": 15,
      "outputs": [
        {
          "output_type": "stream",
          "text": [
            "Train Features Size: (244, 13)\n",
            "Validation Features Size: (28, 13)\n",
            "Test Features Size: (31, 13)\n",
            "Train Labels Size: (244,)\n",
            "Validations Labels Size: (28,)\n",
            "Test Labels Size: (31,)\n"
          ],
          "name": "stdout"
        }
      ]
    },
    {
      "cell_type": "markdown",
      "metadata": {
        "id": "ui9ONYgmP7jZ",
        "colab_type": "text"
      },
      "source": [
        "# Defining a neural network model\n",
        "Created a neural network model with 13 input variables in the input layer, 4 hidden layers and 1 output layers with 2 target or output variables that classify disease vs. non-disease.\n",
        "The first hidden input layer consists of 64 instance, second layer consist of 16 instance, third layer consist of 8 and fourth consist of 4 instances. I have used reLu as an activation funtion in the hidden layers and softmax in the final output layer.\n",
        "To compute the loss sparse_categorical_crossentropy was used and to optimize the training parametes widely used adam optimier was used. Accuracy was used as a metrics to evaluate the neural network model."
      ]
    },
    {
      "cell_type": "code",
      "metadata": {
        "id": "m8eeR1MQ_ALO",
        "colab_type": "code",
        "colab": {}
      },
      "source": [
        "def NN_model(learning_rate):\n",
        "    model = Sequential()\n",
        "    model.add(Dense(64, input_dim=13, kernel_initializer='normal', activation='relu'))\n",
        "    model.add(Dense(16, input_dim=13, kernel_initializer='normal', activation='relu'))\n",
        "    model.add(Dense(8, kernel_initializer='normal', activation='relu'))\n",
        "    model.add(Dense(4, kernel_initializer='normal', activation='relu'))\n",
        "    model.add(Dense(2, activation='softmax'))\n",
        "    Adam(lr=learning_rate)\n",
        "    model.compile(loss='sparse_categorical_crossentropy', optimizer='Adam', metrics=['accuracy'])\n",
        "    return model"
      ],
      "execution_count": 0,
      "outputs": []
    },
    {
      "cell_type": "markdown",
      "metadata": {
        "id": "8ilyVMncRisP",
        "colab_type": "text"
      },
      "source": [
        "Displaying the defined neural network."
      ]
    },
    {
      "cell_type": "code",
      "metadata": {
        "id": "r9C4CEHhAyAl",
        "colab_type": "code",
        "colab": {
          "base_uri": "https://localhost:8080/",
          "height": 354
        },
        "outputId": "5f24c149-c03b-4c00-bff4-36a7b50e9c92"
      },
      "source": [
        "learning_rate = 0.00001\n",
        "model = NN_model(learning_rate)\n",
        "print(model.summary())"
      ],
      "execution_count": 62,
      "outputs": [
        {
          "output_type": "stream",
          "text": [
            "Model: \"sequential_13\"\n",
            "_________________________________________________________________\n",
            "Layer (type)                 Output Shape              Param #   \n",
            "=================================================================\n",
            "dense_58 (Dense)             (None, 64)                896       \n",
            "_________________________________________________________________\n",
            "dense_59 (Dense)             (None, 16)                1040      \n",
            "_________________________________________________________________\n",
            "dense_60 (Dense)             (None, 8)                 136       \n",
            "_________________________________________________________________\n",
            "dense_61 (Dense)             (None, 4)                 36        \n",
            "_________________________________________________________________\n",
            "dense_62 (Dense)             (None, 2)                 10        \n",
            "=================================================================\n",
            "Total params: 2,118\n",
            "Trainable params: 2,118\n",
            "Non-trainable params: 0\n",
            "_________________________________________________________________\n",
            "None\n"
          ],
          "name": "stdout"
        }
      ]
    },
    {
      "cell_type": "markdown",
      "metadata": {
        "id": "8m4R8spPRrvo",
        "colab_type": "text"
      },
      "source": [
        "# Training the neural network model"
      ]
    },
    {
      "cell_type": "code",
      "metadata": {
        "id": "qmvILbXtAztg",
        "colab_type": "code",
        "colab": {
          "base_uri": "https://localhost:8080/",
          "height": 1000
        },
        "outputId": "01e85456-800c-47c2-c097-e3c6612ecc7f"
      },
      "source": [
        "history = model.fit(X_train, Y_train, validation_data=(X_val, Y_val), epochs=100, batch_size=16, verbose=2)"
      ],
      "execution_count": 63,
      "outputs": [
        {
          "output_type": "stream",
          "text": [
            "Train on 244 samples, validate on 28 samples\n",
            "Epoch 1/100\n",
            "244/244 - 0s - loss: 0.6929 - acc: 0.5164 - val_loss: 0.6926 - val_acc: 0.5000\n",
            "Epoch 2/100\n",
            "244/244 - 0s - loss: 0.6895 - acc: 0.5574 - val_loss: 0.6925 - val_acc: 0.5000\n",
            "Epoch 3/100\n",
            "244/244 - 0s - loss: 0.6877 - acc: 0.5574 - val_loss: 0.6928 - val_acc: 0.5000\n",
            "Epoch 4/100\n",
            "244/244 - 0s - loss: 0.6840 - acc: 0.5574 - val_loss: 0.6974 - val_acc: 0.5000\n",
            "Epoch 5/100\n",
            "244/244 - 0s - loss: 0.6808 - acc: 0.5574 - val_loss: 0.6944 - val_acc: 0.5000\n",
            "Epoch 6/100\n",
            "244/244 - 0s - loss: 0.6749 - acc: 0.5574 - val_loss: 0.6879 - val_acc: 0.5357\n",
            "Epoch 7/100\n",
            "244/244 - 0s - loss: 0.6542 - acc: 0.6311 - val_loss: 0.6826 - val_acc: 0.6071\n",
            "Epoch 8/100\n",
            "244/244 - 0s - loss: 0.6253 - acc: 0.6639 - val_loss: 0.6915 - val_acc: 0.5714\n",
            "Epoch 9/100\n",
            "244/244 - 0s - loss: 0.6014 - acc: 0.7090 - val_loss: 0.7021 - val_acc: 0.5714\n",
            "Epoch 10/100\n",
            "244/244 - 0s - loss: 0.6322 - acc: 0.6393 - val_loss: 0.6985 - val_acc: 0.6071\n",
            "Epoch 11/100\n",
            "244/244 - 0s - loss: 0.5724 - acc: 0.7049 - val_loss: 0.6842 - val_acc: 0.5714\n",
            "Epoch 12/100\n",
            "244/244 - 0s - loss: 0.5723 - acc: 0.7008 - val_loss: 0.6961 - val_acc: 0.5714\n",
            "Epoch 13/100\n",
            "244/244 - 0s - loss: 0.5891 - acc: 0.6680 - val_loss: 0.7770 - val_acc: 0.4643\n",
            "Epoch 14/100\n",
            "244/244 - 0s - loss: 0.5620 - acc: 0.7172 - val_loss: 0.7121 - val_acc: 0.5357\n",
            "Epoch 15/100\n",
            "244/244 - 0s - loss: 0.5716 - acc: 0.7049 - val_loss: 0.6813 - val_acc: 0.7143\n",
            "Epoch 16/100\n",
            "244/244 - 0s - loss: 0.5405 - acc: 0.7254 - val_loss: 0.7019 - val_acc: 0.5357\n",
            "Epoch 17/100\n",
            "244/244 - 0s - loss: 0.5560 - acc: 0.7131 - val_loss: 0.7042 - val_acc: 0.5357\n",
            "Epoch 18/100\n",
            "244/244 - 0s - loss: 0.5180 - acc: 0.7213 - val_loss: 0.7041 - val_acc: 0.5357\n",
            "Epoch 19/100\n",
            "244/244 - 0s - loss: 0.5083 - acc: 0.7418 - val_loss: 0.7317 - val_acc: 0.5714\n",
            "Epoch 20/100\n",
            "244/244 - 0s - loss: 0.5338 - acc: 0.7090 - val_loss: 0.7253 - val_acc: 0.5357\n",
            "Epoch 21/100\n",
            "244/244 - 0s - loss: 0.5692 - acc: 0.7090 - val_loss: 0.6918 - val_acc: 0.7143\n",
            "Epoch 22/100\n",
            "244/244 - 0s - loss: 0.5742 - acc: 0.6967 - val_loss: 0.6488 - val_acc: 0.7143\n",
            "Epoch 23/100\n",
            "244/244 - 0s - loss: 0.5270 - acc: 0.7500 - val_loss: 0.6986 - val_acc: 0.5357\n",
            "Epoch 24/100\n",
            "244/244 - 0s - loss: 0.5107 - acc: 0.7418 - val_loss: 0.7010 - val_acc: 0.5357\n",
            "Epoch 25/100\n",
            "244/244 - 0s - loss: 0.5320 - acc: 0.7541 - val_loss: 0.7034 - val_acc: 0.7143\n",
            "Epoch 26/100\n",
            "244/244 - 0s - loss: 0.5433 - acc: 0.7172 - val_loss: 0.6748 - val_acc: 0.5357\n",
            "Epoch 27/100\n",
            "244/244 - 0s - loss: 0.5842 - acc: 0.6926 - val_loss: 0.6768 - val_acc: 0.5714\n",
            "Epoch 28/100\n",
            "244/244 - 0s - loss: 0.5090 - acc: 0.7418 - val_loss: 0.6243 - val_acc: 0.6071\n",
            "Epoch 29/100\n",
            "244/244 - 0s - loss: 0.4898 - acc: 0.7705 - val_loss: 0.6981 - val_acc: 0.5357\n",
            "Epoch 30/100\n",
            "244/244 - 0s - loss: 0.4905 - acc: 0.7541 - val_loss: 0.6787 - val_acc: 0.5714\n",
            "Epoch 31/100\n",
            "244/244 - 0s - loss: 0.4848 - acc: 0.7664 - val_loss: 0.6440 - val_acc: 0.7143\n",
            "Epoch 32/100\n",
            "244/244 - 0s - loss: 0.4690 - acc: 0.7664 - val_loss: 0.6472 - val_acc: 0.6071\n",
            "Epoch 33/100\n",
            "244/244 - 0s - loss: 0.4759 - acc: 0.7459 - val_loss: 0.6717 - val_acc: 0.5357\n",
            "Epoch 34/100\n",
            "244/244 - 0s - loss: 0.4566 - acc: 0.7910 - val_loss: 0.6750 - val_acc: 0.5714\n",
            "Epoch 35/100\n",
            "244/244 - 0s - loss: 0.4779 - acc: 0.7664 - val_loss: 0.6456 - val_acc: 0.5714\n",
            "Epoch 36/100\n",
            "244/244 - 0s - loss: 0.4654 - acc: 0.7787 - val_loss: 0.6295 - val_acc: 0.5357\n",
            "Epoch 37/100\n",
            "244/244 - 0s - loss: 0.4475 - acc: 0.7869 - val_loss: 0.6397 - val_acc: 0.5357\n",
            "Epoch 38/100\n",
            "244/244 - 0s - loss: 0.4428 - acc: 0.7869 - val_loss: 0.6413 - val_acc: 0.6071\n",
            "Epoch 39/100\n",
            "244/244 - 0s - loss: 0.4318 - acc: 0.7787 - val_loss: 0.6216 - val_acc: 0.6786\n",
            "Epoch 40/100\n",
            "244/244 - 0s - loss: 0.4301 - acc: 0.7828 - val_loss: 0.6197 - val_acc: 0.7143\n",
            "Epoch 41/100\n",
            "244/244 - 0s - loss: 0.4184 - acc: 0.7951 - val_loss: 0.7187 - val_acc: 0.6429\n",
            "Epoch 42/100\n",
            "244/244 - 0s - loss: 0.4402 - acc: 0.7746 - val_loss: 0.6067 - val_acc: 0.7143\n",
            "Epoch 43/100\n",
            "244/244 - 0s - loss: 0.4234 - acc: 0.7951 - val_loss: 0.6126 - val_acc: 0.6786\n",
            "Epoch 44/100\n",
            "244/244 - 0s - loss: 0.4546 - acc: 0.7869 - val_loss: 0.6356 - val_acc: 0.6071\n",
            "Epoch 45/100\n",
            "244/244 - 0s - loss: 0.4209 - acc: 0.8115 - val_loss: 0.7340 - val_acc: 0.5714\n",
            "Epoch 46/100\n",
            "244/244 - 0s - loss: 0.4772 - acc: 0.7746 - val_loss: 0.6002 - val_acc: 0.7500\n",
            "Epoch 47/100\n",
            "244/244 - 0s - loss: 0.4099 - acc: 0.8115 - val_loss: 0.5727 - val_acc: 0.6786\n",
            "Epoch 48/100\n",
            "244/244 - 0s - loss: 0.4158 - acc: 0.8238 - val_loss: 0.5837 - val_acc: 0.7143\n",
            "Epoch 49/100\n",
            "244/244 - 0s - loss: 0.3916 - acc: 0.8115 - val_loss: 0.5889 - val_acc: 0.7143\n",
            "Epoch 50/100\n",
            "244/244 - 0s - loss: 0.3958 - acc: 0.8238 - val_loss: 0.5941 - val_acc: 0.7143\n",
            "Epoch 51/100\n",
            "244/244 - 0s - loss: 0.4431 - acc: 0.7992 - val_loss: 0.5576 - val_acc: 0.7143\n",
            "Epoch 52/100\n",
            "244/244 - 0s - loss: 0.4332 - acc: 0.7992 - val_loss: 0.5528 - val_acc: 0.7143\n",
            "Epoch 53/100\n",
            "244/244 - 0s - loss: 0.3810 - acc: 0.8361 - val_loss: 0.5915 - val_acc: 0.7500\n",
            "Epoch 54/100\n",
            "244/244 - 0s - loss: 0.3873 - acc: 0.8320 - val_loss: 0.6376 - val_acc: 0.7500\n",
            "Epoch 55/100\n",
            "244/244 - 0s - loss: 0.4071 - acc: 0.8238 - val_loss: 0.6378 - val_acc: 0.7500\n",
            "Epoch 56/100\n",
            "244/244 - 0s - loss: 0.3808 - acc: 0.8238 - val_loss: 0.7347 - val_acc: 0.6071\n",
            "Epoch 57/100\n",
            "244/244 - 0s - loss: 0.4537 - acc: 0.7910 - val_loss: 0.6065 - val_acc: 0.7500\n",
            "Epoch 58/100\n",
            "244/244 - 0s - loss: 0.4018 - acc: 0.7910 - val_loss: 0.5752 - val_acc: 0.7143\n",
            "Epoch 59/100\n",
            "244/244 - 0s - loss: 0.3738 - acc: 0.8525 - val_loss: 0.5876 - val_acc: 0.7143\n",
            "Epoch 60/100\n",
            "244/244 - 0s - loss: 0.3652 - acc: 0.8361 - val_loss: 0.6060 - val_acc: 0.7500\n",
            "Epoch 61/100\n",
            "244/244 - 0s - loss: 0.3685 - acc: 0.8361 - val_loss: 0.6055 - val_acc: 0.7500\n",
            "Epoch 62/100\n",
            "244/244 - 0s - loss: 0.3957 - acc: 0.8320 - val_loss: 0.6099 - val_acc: 0.7500\n",
            "Epoch 63/100\n",
            "244/244 - 0s - loss: 0.4214 - acc: 0.7869 - val_loss: 0.5626 - val_acc: 0.7500\n",
            "Epoch 64/100\n",
            "244/244 - 0s - loss: 0.3684 - acc: 0.8361 - val_loss: 0.5706 - val_acc: 0.7143\n",
            "Epoch 65/100\n",
            "244/244 - 0s - loss: 0.3555 - acc: 0.8566 - val_loss: 0.5963 - val_acc: 0.7143\n",
            "Epoch 66/100\n",
            "244/244 - 0s - loss: 0.4078 - acc: 0.8443 - val_loss: 0.5713 - val_acc: 0.7500\n",
            "Epoch 67/100\n",
            "244/244 - 0s - loss: 0.3563 - acc: 0.8484 - val_loss: 0.6098 - val_acc: 0.7500\n",
            "Epoch 68/100\n",
            "244/244 - 0s - loss: 0.4475 - acc: 0.8033 - val_loss: 0.5667 - val_acc: 0.7500\n",
            "Epoch 69/100\n",
            "244/244 - 0s - loss: 0.4299 - acc: 0.8033 - val_loss: 0.5864 - val_acc: 0.7500\n",
            "Epoch 70/100\n",
            "244/244 - 0s - loss: 0.3640 - acc: 0.8361 - val_loss: 0.5675 - val_acc: 0.7500\n",
            "Epoch 71/100\n",
            "244/244 - 0s - loss: 0.3670 - acc: 0.8525 - val_loss: 0.5897 - val_acc: 0.7143\n",
            "Epoch 72/100\n",
            "244/244 - 0s - loss: 0.3615 - acc: 0.8566 - val_loss: 0.6122 - val_acc: 0.7143\n",
            "Epoch 73/100\n",
            "244/244 - 0s - loss: 0.3604 - acc: 0.8443 - val_loss: 0.5956 - val_acc: 0.7500\n",
            "Epoch 74/100\n",
            "244/244 - 0s - loss: 0.3662 - acc: 0.8443 - val_loss: 0.6985 - val_acc: 0.7143\n",
            "Epoch 75/100\n",
            "244/244 - 0s - loss: 0.4214 - acc: 0.7951 - val_loss: 0.5882 - val_acc: 0.7500\n",
            "Epoch 76/100\n",
            "244/244 - 0s - loss: 0.3600 - acc: 0.8689 - val_loss: 0.5677 - val_acc: 0.7143\n",
            "Epoch 77/100\n",
            "244/244 - 0s - loss: 0.3810 - acc: 0.8443 - val_loss: 0.5682 - val_acc: 0.7500\n",
            "Epoch 78/100\n",
            "244/244 - 0s - loss: 0.3980 - acc: 0.8361 - val_loss: 0.5623 - val_acc: 0.7500\n",
            "Epoch 79/100\n",
            "244/244 - 0s - loss: 0.3626 - acc: 0.8525 - val_loss: 0.5673 - val_acc: 0.7500\n",
            "Epoch 80/100\n",
            "244/244 - 0s - loss: 0.3640 - acc: 0.8320 - val_loss: 0.5669 - val_acc: 0.7500\n",
            "Epoch 81/100\n",
            "244/244 - 0s - loss: 0.3502 - acc: 0.8770 - val_loss: 0.5890 - val_acc: 0.7500\n",
            "Epoch 82/100\n",
            "244/244 - 0s - loss: 0.3528 - acc: 0.8566 - val_loss: 0.5889 - val_acc: 0.7500\n",
            "Epoch 83/100\n",
            "244/244 - 0s - loss: 0.3621 - acc: 0.8402 - val_loss: 0.6030 - val_acc: 0.7500\n",
            "Epoch 84/100\n",
            "244/244 - 0s - loss: 0.3521 - acc: 0.8770 - val_loss: 0.5671 - val_acc: 0.7500\n",
            "Epoch 85/100\n",
            "244/244 - 0s - loss: 0.3503 - acc: 0.8689 - val_loss: 0.5978 - val_acc: 0.7500\n",
            "Epoch 86/100\n",
            "244/244 - 0s - loss: 0.3573 - acc: 0.8402 - val_loss: 0.5951 - val_acc: 0.7143\n",
            "Epoch 87/100\n",
            "244/244 - 0s - loss: 0.3482 - acc: 0.8648 - val_loss: 0.6096 - val_acc: 0.7500\n",
            "Epoch 88/100\n",
            "244/244 - 0s - loss: 0.3648 - acc: 0.8443 - val_loss: 0.6065 - val_acc: 0.7500\n",
            "Epoch 89/100\n",
            "244/244 - 0s - loss: 0.4557 - acc: 0.7992 - val_loss: 0.5721 - val_acc: 0.7500\n",
            "Epoch 90/100\n",
            "244/244 - 0s - loss: 0.4267 - acc: 0.8279 - val_loss: 0.6292 - val_acc: 0.7857\n",
            "Epoch 91/100\n",
            "244/244 - 0s - loss: 0.4098 - acc: 0.8279 - val_loss: 0.5666 - val_acc: 0.7143\n",
            "Epoch 92/100\n",
            "244/244 - 0s - loss: 0.3494 - acc: 0.8689 - val_loss: 0.5788 - val_acc: 0.7500\n",
            "Epoch 93/100\n",
            "244/244 - 0s - loss: 0.3525 - acc: 0.8525 - val_loss: 0.5901 - val_acc: 0.7500\n",
            "Epoch 94/100\n",
            "244/244 - 0s - loss: 0.3455 - acc: 0.8525 - val_loss: 0.5956 - val_acc: 0.7143\n",
            "Epoch 95/100\n",
            "244/244 - 0s - loss: 0.3488 - acc: 0.8689 - val_loss: 0.5898 - val_acc: 0.7143\n",
            "Epoch 96/100\n",
            "244/244 - 0s - loss: 0.3357 - acc: 0.8648 - val_loss: 0.6208 - val_acc: 0.7500\n",
            "Epoch 97/100\n",
            "244/244 - 0s - loss: 0.3610 - acc: 0.8566 - val_loss: 0.6224 - val_acc: 0.7500\n",
            "Epoch 98/100\n",
            "244/244 - 0s - loss: 0.3731 - acc: 0.8484 - val_loss: 0.6158 - val_acc: 0.7500\n",
            "Epoch 99/100\n",
            "244/244 - 0s - loss: 0.3784 - acc: 0.8320 - val_loss: 0.5794 - val_acc: 0.7500\n",
            "Epoch 100/100\n",
            "244/244 - 0s - loss: 0.3415 - acc: 0.8607 - val_loss: 0.5886 - val_acc: 0.7500\n"
          ],
          "name": "stdout"
        }
      ]
    },
    {
      "cell_type": "markdown",
      "metadata": {
        "id": "O2rxrfAwRxYG",
        "colab_type": "text"
      },
      "source": [
        "## Model accuracy Plot"
      ]
    },
    {
      "cell_type": "code",
      "metadata": {
        "id": "L9y-IQ_-CGVZ",
        "colab_type": "code",
        "colab": {
          "base_uri": "https://localhost:8080/",
          "height": 294
        },
        "outputId": "72d0a5f9-8c3f-47f5-8878-6dbf2f02e3e1"
      },
      "source": [
        "plt.plot(history.history['acc'])\n",
        "plt.plot(history.history['val_acc'])\n",
        "plt.title('Model Accuracy')\n",
        "plt.ylabel('Accuracy')\n",
        "plt.xlabel('Epochs')\n",
        "plt.legend(['Train', 'Validation'])\n",
        "plt.show()"
      ],
      "execution_count": 64,
      "outputs": [
        {
          "output_type": "display_data",
          "data": {
            "image/png": "[encoded data removed]",
            "text/plain": [
              "<Figure size 432x288 with 1 Axes>"
            ]
          },
          "metadata": {
            "tags": []
          }
        }
      ]
    },
    {
      "cell_type": "markdown",
      "metadata": {
        "id": "qWJPn_2CR48X",
        "colab_type": "text"
      },
      "source": [
        "## Model Loss plot"
      ]
    },
    {
      "cell_type": "code",
      "metadata": {
        "id": "7q410ElyCKZA",
        "colab_type": "code",
        "colab": {
          "base_uri": "https://localhost:8080/",
          "height": 294
        },
        "outputId": "58df7620-d9cf-4822-9e21-f5d873ef9cd0"
      },
      "source": [
        "plt.plot(history.history['loss'])\n",
        "plt.plot(history.history['val_loss'])\n",
        "plt.title('Model Loss')\n",
        "plt.ylabel('Loss')\n",
        "plt.xlabel('Epochs')\n",
        "plt.legend(['Train', 'Validation'])\n",
        "plt.show()"
      ],
      "execution_count": 65,
      "outputs": [
        {
          "output_type": "display_data",
          "data": {
            "image/png": "[encoded data removed]",
            "text/plain": [
              "<Figure size 432x288 with 1 Axes>"
            ]
          },
          "metadata": {
            "tags": []
          }
        }
      ]
    },
    {
      "cell_type": "markdown",
      "metadata": {
        "id": "CGSYdT2QSNqk",
        "colab_type": "text"
      },
      "source": [
        "# Prediction Test and Classification Report\n",
        "Finally, predicting the class from the input test dataset and generating the classification report using the imported package sklearn.metrics.\n",
        "\n",
        "The trained model using neural network has a model accuracy of around 90% and has the similar f1 score, where f1 is a measure of test accuracy in binary classification which considers both precision and recall."
      ]
    },
    {
      "cell_type": "code",
      "metadata": {
        "id": "3ULHiRL1Lj8N",
        "colab_type": "code",
        "colab": {
          "base_uri": "https://localhost:8080/",
          "height": 194
        },
        "outputId": "0bd112bd-f09d-47bf-aa1c-4c41bdea3889"
      },
      "source": [
        "predictions = np.argmax(model.predict(X_test), axis=1)\n",
        "model_accuracy = accuracy_score(Y_test, predictions)*100\n",
        "print(\"Model Accracy:\", model_accuracy,\"%\")\n",
        "print(classification_report(Y_test, predictions))"
      ],
      "execution_count": 66,
      "outputs": [
        {
          "output_type": "stream",
          "text": [
            "Model Accracy: 90.32258064516128 %\n",
            "              precision    recall  f1-score   support\n",
            "\n",
            "           0       1.00      0.81      0.90        16\n",
            "           1       0.83      1.00      0.91        15\n",
            "\n",
            "    accuracy                           0.90        31\n",
            "   macro avg       0.92      0.91      0.90        31\n",
            "weighted avg       0.92      0.90      0.90        31\n",
            "\n"
          ],
          "name": "stdout"
        }
      ]
    }
  ]
}