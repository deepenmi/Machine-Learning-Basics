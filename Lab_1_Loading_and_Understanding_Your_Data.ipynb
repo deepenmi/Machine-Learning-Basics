{
  "nbformat": 4,
  "nbformat_minor": 0,
  "metadata": {
    "colab": {
      "name": "Lab 1  Loading and Understanding Your Data.ipynb",
      "version": "0.3.2",
      "provenance": [],
      "collapsed_sections": [
        "JndnmDMp66FL"
      ],
      "include_colab_link": true
    }
  },
  "cells": [
    {
      "cell_type": "markdown",
      "metadata": {
        "id": "view-in-github",
        "colab_type": "text"
      },
      "source": [
        "<a href=\"https://colab.research.google.com/github/deepenmi/Machine-Learning-Basics/blob/master/Lab_1_Loading_and_Understanding_Your_Data.ipynb\" target=\"_parent\"><img src=\"https://colab.research.google.com/assets/colab-badge.svg\" alt=\"Open In Colab\"/></a>"
      ]
    },
    {
      "metadata": {
        "id": "JndnmDMp66FL",
        "colab_type": "text"
      },
      "cell_type": "markdown",
      "source": [
        "#### Copyright 2017 Google LLC."
      ]
    },
    {
      "metadata": {
        "id": "hMqWDc_m6rUC",
        "colab_type": "code",
        "cellView": "both",
        "colab": {}
      },
      "cell_type": "code",
      "source": [
        "# Licensed under the Apache License, Version 2.0 (the \"License\");\n",
        "# you may not use this file except in compliance with the License.\n",
        "# You may obtain a copy of the License at\n",
        "#\n",
        "# https://www.apache.org/licenses/LICENSE-2.0\n",
        "#\n",
        "# Unless required by applicable law or agreed to in writing, software\n",
        "# distributed under the License is distributed on an \"AS IS\" BASIS,\n",
        "# WITHOUT WARRANTIES OR CONDITIONS OF ANY KIND, either express or implied.\n",
        "# See the License for the specific language governing permissions and\n",
        "# limitations under the License."
      ],
      "execution_count": 0,
      "outputs": []
    },
    {
      "metadata": {
        "id": "4f3CKqFUqL2-",
        "colab_type": "text"
      },
      "cell_type": "markdown",
      "source": [
        "#Lab 1: Loading and Understanding Your Data\n",
        "\n",
        "\n",
        "**Learning Objectives:**\n",
        "* Learn the basics of reading data with Pandas\n",
        "* Learn the basics of data cleaning and handling missing data using Pandas\n",
        "* Learning how to visualize data with a scatter plot\n",
        "* Use Numpy to generate the line minimizing squared loss\n",
        "* Explore visually the difference in the model when replacing missing items by 0s versus the mean value for that feature.\n",
        "\n"
      ]
    },
    {
      "metadata": {
        "id": "if3EBefJeqKq",
        "colab_type": "text"
      },
      "cell_type": "markdown",
      "source": [
        "## Data Set\n",
        "This lab will use a data set from 1985 Ward's Automotive Yearbook that is part of the [UCI Machine Learning Repository](https://archive.ics.uci.edu/ml/datasets) under [Automobile Data Set](https://archive.ics.uci.edu/ml/datasets/automobile).  You can find a description of the data at [https://archive.ics.uci.edu/ml/datasets/automobile](https://archive.ics.uci.edu/ml/datasets/automobile). "
      ]
    },
    {
      "metadata": {
        "id": "h94BDSHgeKev",
        "colab_type": "text"
      },
      "cell_type": "markdown",
      "source": [
        "## Imports\n",
        "In this first cell, we'll import some libraries, including Pandas that will be used later to read and load the data. Run this cell to execute the code."
      ]
    },
    {
      "metadata": {
        "id": "6CspO1zVopXj",
        "colab_type": "code",
        "cellView": "both",
        "colab": {
          "base_uri": "https://localhost:8080/",
          "height": 34
        },
        "outputId": "0a743dee-37c2-46ea-a3fa-58859327c9ba"
      },
      "cell_type": "code",
      "source": [
        "import math\n",
        "\n",
        "from IPython import display\n",
        "from matplotlib import cm\n",
        "from matplotlib import gridspec\n",
        "from matplotlib import pyplot as plt\n",
        "import numpy as np\n",
        "import pandas as pd\n",
        "from mpl_toolkits.mplot3d import Axes3D\n",
        "from sklearn import metrics\n",
        "import tensorflow as tf\n",
        "from tensorflow.contrib.learn.python.learn import learn_io, estimator\n",
        "\n",
        "# This line incrasing the amount of logging when there is an error.  You can\n",
        "# remove it if you want less logging\n",
        "tf.logging.set_verbosity(tf.logging.ERROR)\n",
        "\n",
        "print \"Done with the imports.\""
      ],
      "execution_count": 1,
      "outputs": [
        {
          "output_type": "stream",
          "text": [
            "Done with the imports.\n"
          ],
          "name": "stdout"
        }
      ]
    },
    {
      "metadata": {
        "id": "gH_CmiFUfECG",
        "colab_type": "text"
      },
      "cell_type": "markdown",
      "source": [
        "## Pandas -- Python Data Analysis Library\n",
        "\n",
        "We are use a package called [Pandas](http://pandas.pydata.org/) for reading in our data, exploring our data and doing some basic processing.  First \n",
        "we set up some options to control how items are displayed and the maximum number of rows to show when displaying a table.  Feel free to change this setup to whatever you'd like.\n",
        "\n",
        "As illustrated below, in colab you can define code cells that do not generate any output. In fact, the first cell would also have been that way except for the `print` statement at the end added just to help illustrate this aspect of colab. If at any point you are not sure if a cell is successfully running, you can add a print statement, but that should not be necessary since you can visually see when the cell is done running when the arrow is showing again. Also note that when you select the next cell the number showing the execution order of the cell appears."
      ]
    },
    {
      "metadata": {
        "id": "nkipsYVxfDv4",
        "colab_type": "code",
        "colab": {}
      },
      "cell_type": "code",
      "source": [
        "# Set the output display to have one digit for decimal places, for display\n",
        "# readability only and limit it to printing 15 rows.\n",
        "pd.options.display.float_format = '{:.2f}'.format\n",
        "pd.options.display.max_rows = 20"
      ],
      "execution_count": 0,
      "outputs": []
    },
    {
      "metadata": {
        "id": "F9TLXouIfYQI",
        "colab_type": "text"
      },
      "cell_type": "markdown",
      "source": [
        "### Loading the Data Set with Pandas\n",
        "The car data set we will be using in this lab is provided as a comma separated file without a header row.  In order, for each column to have a meaningful header name we must provide it.  We get the information about the columns from [Automobile Data Set](https://archive.ics.uci.edu/ml/datasets/automobile)\n"
      ]
    },
    {
      "metadata": {
        "id": "wXuaBqVufYF4",
        "colab_type": "code",
        "colab": {
          "base_uri": "https://localhost:8080/",
          "height": 34
        },
        "outputId": "b6ba21fd-2bdb-43fc-c8be-64ff5d1ed030"
      },
      "cell_type": "code",
      "source": [
        "# Provide the names for the columns since the CSV file with the data does\n",
        "# not have a header row.\n",
        "cols = ['symboling', 'losses', 'make', 'fuel-type', 'aspiration', 'num-doors',\n",
        "        'body-style', 'drive-wheels', 'engine-location', 'wheel-base',\n",
        "        'length', 'width', 'height', 'weight', 'engine-type', 'num-cylinders',\n",
        "        'engine-size', 'fuel-system', 'bore', 'stroke', 'compression-ratio',\n",
        "        'horsepower', 'peak-rpm', 'city-mpg', 'highway-mpg', 'price']\n",
        "\n",
        "\n",
        "# Load in the data from a CSV file that is comma seperated.\n",
        "car_data = pd.read_csv('https://storage.googleapis.com/ml_universities/cars_dataset/cars_data.csv',\n",
        "                        sep=',', names=cols, header=None, encoding='latin-1')\n",
        "\n",
        "print \"Data set loaded.\""
      ],
      "execution_count": 3,
      "outputs": [
        {
          "output_type": "stream",
          "text": [
            "Data set loaded.\n"
          ],
          "name": "stdout"
        }
      ]
    },
    {
      "metadata": {
        "id": "HzzlSs3PtTmt",
        "colab_type": "text"
      },
      "cell_type": "markdown",
      "source": [
        "### Examine the Data\n",
        "\n",
        "It's a good idea to get to know your data a little bit before you work with it. Let's look at the header row and the first 10 rows of data.\n"
      ]
    },
    {
      "metadata": {
        "id": "tVmE-kNotzWG",
        "colab_type": "code",
        "colab": {
          "base_uri": "https://localhost:8080/",
          "height": 407
        },
        "outputId": "a80e46d1-50ad-4c11-dd7e-c79a3497bc8d"
      },
      "cell_type": "code",
      "source": [
        "car_data[1:11]\n",
        "car_data.dtypes"
      ],
      "execution_count": 54,
      "outputs": [
        {
          "output_type": "execute_result",
          "data": {
            "text/plain": [
              "symboling              int64\n",
              "losses               float64\n",
              "make                  object\n",
              "fuel-type             object\n",
              "aspiration            object\n",
              "num-doors             object\n",
              "body-style            object\n",
              "drive-wheels          object\n",
              "engine-location       object\n",
              "wheel-base           float64\n",
              "                      ...   \n",
              "engine-size            int64\n",
              "fuel-system           object\n",
              "bore                  object\n",
              "stroke                object\n",
              "compression-ratio    float64\n",
              "horsepower           float64\n",
              "peak-rpm             float64\n",
              "city-mpg               int64\n",
              "highway-mpg            int64\n",
              "price                float64\n",
              "Length: 26, dtype: object"
            ]
          },
          "metadata": {
            "tags": []
          },
          "execution_count": 54
        }
      ]
    },
    {
      "metadata": {
        "id": "Cih-K3tetkgb",
        "colab_type": "text"
      },
      "cell_type": "markdown",
      "source": [
        "### Look at Some Basic Statistics About the Data\n",
        "We'll print out a quick summary of a few useful statistics on each column. This will include things like mean, standard deviation, max, min, and various quantiles."
      ]
    },
    {
      "metadata": {
        "id": "gzb10yoVrydW",
        "colab_type": "code",
        "cellView": "both",
        "colab": {
          "base_uri": "https://localhost:8080/",
          "height": 287
        },
        "outputId": "f6f94adb-3c28-44bb-b3f4-0ed7b4568145"
      },
      "cell_type": "code",
      "source": [
        "car_data.describe()"
      ],
      "execution_count": 8,
      "outputs": [
        {
          "output_type": "execute_result",
          "data": {
            "text/html": [
              "<div>\n",
              "<style scoped>\n",
              "    .dataframe tbody tr th:only-of-type {\n",
              "        vertical-align: middle;\n",
              "    }\n",
              "\n",
              "    .dataframe tbody tr th {\n",
              "        vertical-align: top;\n",
              "    }\n",
              "\n",
              "    .dataframe thead th {\n",
              "        text-align: right;\n",
              "    }\n",
              "</style>\n",
              "<table border=\"1\" class=\"dataframe\">\n",
              "  <thead>\n",
              "    <tr style=\"text-align: right;\">\n",
              "      <th></th>\n",
              "      <th>symboling</th>\n",
              "      <th>wheel-base</th>\n",
              "      <th>length</th>\n",
              "      <th>width</th>\n",
              "      <th>height</th>\n",
              "      <th>weight</th>\n",
              "      <th>engine-size</th>\n",
              "      <th>compression-ratio</th>\n",
              "      <th>city-mpg</th>\n",
              "      <th>highway-mpg</th>\n",
              "    </tr>\n",
              "  </thead>\n",
              "  <tbody>\n",
              "    <tr>\n",
              "      <th>count</th>\n",
              "      <td>205.00</td>\n",
              "      <td>205.00</td>\n",
              "      <td>205.00</td>\n",
              "      <td>205.00</td>\n",
              "      <td>205.00</td>\n",
              "      <td>205.00</td>\n",
              "      <td>205.00</td>\n",
              "      <td>205.00</td>\n",
              "      <td>205.00</td>\n",
              "      <td>205.00</td>\n",
              "    </tr>\n",
              "    <tr>\n",
              "      <th>mean</th>\n",
              "      <td>0.83</td>\n",
              "      <td>98.76</td>\n",
              "      <td>174.05</td>\n",
              "      <td>65.91</td>\n",
              "      <td>53.72</td>\n",
              "      <td>2555.57</td>\n",
              "      <td>126.91</td>\n",
              "      <td>10.14</td>\n",
              "      <td>25.22</td>\n",
              "      <td>30.75</td>\n",
              "    </tr>\n",
              "    <tr>\n",
              "      <th>std</th>\n",
              "      <td>1.25</td>\n",
              "      <td>6.02</td>\n",
              "      <td>12.34</td>\n",
              "      <td>2.15</td>\n",
              "      <td>2.44</td>\n",
              "      <td>520.68</td>\n",
              "      <td>41.64</td>\n",
              "      <td>3.97</td>\n",
              "      <td>6.54</td>\n",
              "      <td>6.89</td>\n",
              "    </tr>\n",
              "    <tr>\n",
              "      <th>min</th>\n",
              "      <td>-2.00</td>\n",
              "      <td>86.60</td>\n",
              "      <td>141.10</td>\n",
              "      <td>60.30</td>\n",
              "      <td>47.80</td>\n",
              "      <td>1488.00</td>\n",
              "      <td>61.00</td>\n",
              "      <td>7.00</td>\n",
              "      <td>13.00</td>\n",
              "      <td>16.00</td>\n",
              "    </tr>\n",
              "    <tr>\n",
              "      <th>25%</th>\n",
              "      <td>0.00</td>\n",
              "      <td>94.50</td>\n",
              "      <td>166.30</td>\n",
              "      <td>64.10</td>\n",
              "      <td>52.00</td>\n",
              "      <td>2145.00</td>\n",
              "      <td>97.00</td>\n",
              "      <td>8.60</td>\n",
              "      <td>19.00</td>\n",
              "      <td>25.00</td>\n",
              "    </tr>\n",
              "    <tr>\n",
              "      <th>50%</th>\n",
              "      <td>1.00</td>\n",
              "      <td>97.00</td>\n",
              "      <td>173.20</td>\n",
              "      <td>65.50</td>\n",
              "      <td>54.10</td>\n",
              "      <td>2414.00</td>\n",
              "      <td>120.00</td>\n",
              "      <td>9.00</td>\n",
              "      <td>24.00</td>\n",
              "      <td>30.00</td>\n",
              "    </tr>\n",
              "    <tr>\n",
              "      <th>75%</th>\n",
              "      <td>2.00</td>\n",
              "      <td>102.40</td>\n",
              "      <td>183.10</td>\n",
              "      <td>66.90</td>\n",
              "      <td>55.50</td>\n",
              "      <td>2935.00</td>\n",
              "      <td>141.00</td>\n",
              "      <td>9.40</td>\n",
              "      <td>30.00</td>\n",
              "      <td>34.00</td>\n",
              "    </tr>\n",
              "    <tr>\n",
              "      <th>max</th>\n",
              "      <td>3.00</td>\n",
              "      <td>120.90</td>\n",
              "      <td>208.10</td>\n",
              "      <td>72.30</td>\n",
              "      <td>59.80</td>\n",
              "      <td>4066.00</td>\n",
              "      <td>326.00</td>\n",
              "      <td>23.00</td>\n",
              "      <td>49.00</td>\n",
              "      <td>54.00</td>\n",
              "    </tr>\n",
              "  </tbody>\n",
              "</table>\n",
              "</div>"
            ],
            "text/plain": [
              "       symboling  wheel-base  length  width  height  weight  engine-size  \\\n",
              "count     205.00      205.00  205.00 205.00  205.00  205.00       205.00   \n",
              "mean        0.83       98.76  174.05  65.91   53.72 2555.57       126.91   \n",
              "std         1.25        6.02   12.34   2.15    2.44  520.68        41.64   \n",
              "min        -2.00       86.60  141.10  60.30   47.80 1488.00        61.00   \n",
              "25%         0.00       94.50  166.30  64.10   52.00 2145.00        97.00   \n",
              "50%         1.00       97.00  173.20  65.50   54.10 2414.00       120.00   \n",
              "75%         2.00      102.40  183.10  66.90   55.50 2935.00       141.00   \n",
              "max         3.00      120.90  208.10  72.30   59.80 4066.00       326.00   \n",
              "\n",
              "       compression-ratio  city-mpg  highway-mpg  \n",
              "count             205.00    205.00       205.00  \n",
              "mean               10.14     25.22        30.75  \n",
              "std                 3.97      6.54         6.89  \n",
              "min                 7.00     13.00        16.00  \n",
              "25%                 8.60     19.00        25.00  \n",
              "50%                 9.00     24.00        30.00  \n",
              "75%                 9.40     30.00        34.00  \n",
              "max                23.00     49.00        54.00  "
            ]
          },
          "metadata": {
            "tags": []
          },
          "execution_count": 8
        }
      ]
    },
    {
      "metadata": {
        "id": "VPUHcV0vuOAW",
        "colab_type": "text"
      },
      "cell_type": "markdown",
      "source": [
        "### Handling Missing Data Entries\n",
        "Why are some columns such as the price and losses not showing in the summary column?  If we look at the data more carefuly, we'll see that a \"?\" was used in this data set to indicate that a value is unknown.\n",
        "\n",
        "Pandas provices a method [to_numeric](http://pandas.pydata.org/pandas-docs/version/0.18.1/generated/pandas.to_numeric.html) that converts a column to be numeric. There are three options about how to handle errors (entries that are not numeric) of which 'coerce' is what we want to use in this situation, since it converts those entries to pandas representation `NaN` for \"not a number\".\n",
        "\n",
        "Notice now when you use `describe` to see the statistics for the entries that are a number, the count indicates how many entries had a number (not `NaN`) for that column."
      ]
    },
    {
      "metadata": {
        "id": "WJg129wyugzF",
        "colab_type": "code",
        "colab": {
          "base_uri": "https://localhost:8080/",
          "height": 287
        },
        "outputId": "8620cd6b-7130-4376-a87d-0fa7ae298a09"
      },
      "cell_type": "code",
      "source": [
        "car_data['price'] = pd.to_numeric(car_data['price'], errors='coerce')\n",
        "car_data['horsepower'] = pd.to_numeric(car_data['horsepower'], errors='coerce')\n",
        "car_data['peak-rpm'] = pd.to_numeric(car_data['peak-rpm'], errors='coerce')\n",
        "car_data['city-mpg'] = pd.to_numeric(car_data['city-mpg'], errors='coerce')\n",
        "car_data['highway-mpg'] = pd.to_numeric(car_data['highway-mpg'], errors='coerce')\n",
        "car_data['losses'] = pd.to_numeric(car_data['losses'], errors='coerce')\n",
        "car_data.describe()"
      ],
      "execution_count": 13,
      "outputs": [
        {
          "output_type": "execute_result",
          "data": {
            "text/html": [
              "<div>\n",
              "<style scoped>\n",
              "    .dataframe tbody tr th:only-of-type {\n",
              "        vertical-align: middle;\n",
              "    }\n",
              "\n",
              "    .dataframe tbody tr th {\n",
              "        vertical-align: top;\n",
              "    }\n",
              "\n",
              "    .dataframe thead th {\n",
              "        text-align: right;\n",
              "    }\n",
              "</style>\n",
              "<table border=\"1\" class=\"dataframe\">\n",
              "  <thead>\n",
              "    <tr style=\"text-align: right;\">\n",
              "      <th></th>\n",
              "      <th>symboling</th>\n",
              "      <th>losses</th>\n",
              "      <th>wheel-base</th>\n",
              "      <th>length</th>\n",
              "      <th>width</th>\n",
              "      <th>height</th>\n",
              "      <th>weight</th>\n",
              "      <th>engine-size</th>\n",
              "      <th>compression-ratio</th>\n",
              "      <th>horsepower</th>\n",
              "      <th>peak-rpm</th>\n",
              "      <th>city-mpg</th>\n",
              "      <th>highway-mpg</th>\n",
              "      <th>price</th>\n",
              "    </tr>\n",
              "  </thead>\n",
              "  <tbody>\n",
              "    <tr>\n",
              "      <th>count</th>\n",
              "      <td>205.00</td>\n",
              "      <td>164.00</td>\n",
              "      <td>205.00</td>\n",
              "      <td>205.00</td>\n",
              "      <td>205.00</td>\n",
              "      <td>205.00</td>\n",
              "      <td>205.00</td>\n",
              "      <td>205.00</td>\n",
              "      <td>205.00</td>\n",
              "      <td>203.00</td>\n",
              "      <td>203.00</td>\n",
              "      <td>205.00</td>\n",
              "      <td>205.00</td>\n",
              "      <td>201.00</td>\n",
              "    </tr>\n",
              "    <tr>\n",
              "      <th>mean</th>\n",
              "      <td>0.83</td>\n",
              "      <td>122.00</td>\n",
              "      <td>98.76</td>\n",
              "      <td>174.05</td>\n",
              "      <td>65.91</td>\n",
              "      <td>53.72</td>\n",
              "      <td>2555.57</td>\n",
              "      <td>126.91</td>\n",
              "      <td>10.14</td>\n",
              "      <td>104.26</td>\n",
              "      <td>5125.37</td>\n",
              "      <td>25.22</td>\n",
              "      <td>30.75</td>\n",
              "      <td>13207.13</td>\n",
              "    </tr>\n",
              "    <tr>\n",
              "      <th>std</th>\n",
              "      <td>1.25</td>\n",
              "      <td>35.44</td>\n",
              "      <td>6.02</td>\n",
              "      <td>12.34</td>\n",
              "      <td>2.15</td>\n",
              "      <td>2.44</td>\n",
              "      <td>520.68</td>\n",
              "      <td>41.64</td>\n",
              "      <td>3.97</td>\n",
              "      <td>39.71</td>\n",
              "      <td>479.33</td>\n",
              "      <td>6.54</td>\n",
              "      <td>6.89</td>\n",
              "      <td>7947.07</td>\n",
              "    </tr>\n",
              "    <tr>\n",
              "      <th>min</th>\n",
              "      <td>-2.00</td>\n",
              "      <td>65.00</td>\n",
              "      <td>86.60</td>\n",
              "      <td>141.10</td>\n",
              "      <td>60.30</td>\n",
              "      <td>47.80</td>\n",
              "      <td>1488.00</td>\n",
              "      <td>61.00</td>\n",
              "      <td>7.00</td>\n",
              "      <td>48.00</td>\n",
              "      <td>4150.00</td>\n",
              "      <td>13.00</td>\n",
              "      <td>16.00</td>\n",
              "      <td>5118.00</td>\n",
              "    </tr>\n",
              "    <tr>\n",
              "      <th>25%</th>\n",
              "      <td>0.00</td>\n",
              "      <td>94.00</td>\n",
              "      <td>94.50</td>\n",
              "      <td>166.30</td>\n",
              "      <td>64.10</td>\n",
              "      <td>52.00</td>\n",
              "      <td>2145.00</td>\n",
              "      <td>97.00</td>\n",
              "      <td>8.60</td>\n",
              "      <td>70.00</td>\n",
              "      <td>4800.00</td>\n",
              "      <td>19.00</td>\n",
              "      <td>25.00</td>\n",
              "      <td>7775.00</td>\n",
              "    </tr>\n",
              "    <tr>\n",
              "      <th>50%</th>\n",
              "      <td>1.00</td>\n",
              "      <td>115.00</td>\n",
              "      <td>97.00</td>\n",
              "      <td>173.20</td>\n",
              "      <td>65.50</td>\n",
              "      <td>54.10</td>\n",
              "      <td>2414.00</td>\n",
              "      <td>120.00</td>\n",
              "      <td>9.00</td>\n",
              "      <td>95.00</td>\n",
              "      <td>5200.00</td>\n",
              "      <td>24.00</td>\n",
              "      <td>30.00</td>\n",
              "      <td>10295.00</td>\n",
              "    </tr>\n",
              "    <tr>\n",
              "      <th>75%</th>\n",
              "      <td>2.00</td>\n",
              "      <td>150.00</td>\n",
              "      <td>102.40</td>\n",
              "      <td>183.10</td>\n",
              "      <td>66.90</td>\n",
              "      <td>55.50</td>\n",
              "      <td>2935.00</td>\n",
              "      <td>141.00</td>\n",
              "      <td>9.40</td>\n",
              "      <td>116.00</td>\n",
              "      <td>5500.00</td>\n",
              "      <td>30.00</td>\n",
              "      <td>34.00</td>\n",
              "      <td>16500.00</td>\n",
              "    </tr>\n",
              "    <tr>\n",
              "      <th>max</th>\n",
              "      <td>3.00</td>\n",
              "      <td>256.00</td>\n",
              "      <td>120.90</td>\n",
              "      <td>208.10</td>\n",
              "      <td>72.30</td>\n",
              "      <td>59.80</td>\n",
              "      <td>4066.00</td>\n",
              "      <td>326.00</td>\n",
              "      <td>23.00</td>\n",
              "      <td>288.00</td>\n",
              "      <td>6600.00</td>\n",
              "      <td>49.00</td>\n",
              "      <td>54.00</td>\n",
              "      <td>45400.00</td>\n",
              "    </tr>\n",
              "  </tbody>\n",
              "</table>\n",
              "</div>"
            ],
            "text/plain": [
              "       symboling  losses  wheel-base  length  width  height  weight  \\\n",
              "count     205.00  164.00      205.00  205.00 205.00  205.00  205.00   \n",
              "mean        0.83  122.00       98.76  174.05  65.91   53.72 2555.57   \n",
              "std         1.25   35.44        6.02   12.34   2.15    2.44  520.68   \n",
              "min        -2.00   65.00       86.60  141.10  60.30   47.80 1488.00   \n",
              "25%         0.00   94.00       94.50  166.30  64.10   52.00 2145.00   \n",
              "50%         1.00  115.00       97.00  173.20  65.50   54.10 2414.00   \n",
              "75%         2.00  150.00      102.40  183.10  66.90   55.50 2935.00   \n",
              "max         3.00  256.00      120.90  208.10  72.30   59.80 4066.00   \n",
              "\n",
              "       engine-size  compression-ratio  horsepower  peak-rpm  city-mpg  \\\n",
              "count       205.00             205.00      203.00    203.00    205.00   \n",
              "mean        126.91              10.14      104.26   5125.37     25.22   \n",
              "std          41.64               3.97       39.71    479.33      6.54   \n",
              "min          61.00               7.00       48.00   4150.00     13.00   \n",
              "25%          97.00               8.60       70.00   4800.00     19.00   \n",
              "50%         120.00               9.00       95.00   5200.00     24.00   \n",
              "75%         141.00               9.40      116.00   5500.00     30.00   \n",
              "max         326.00              23.00      288.00   6600.00     49.00   \n",
              "\n",
              "       highway-mpg    price  \n",
              "count       205.00   201.00  \n",
              "mean         30.75 13207.13  \n",
              "std           6.89  7947.07  \n",
              "min          16.00  5118.00  \n",
              "25%          25.00  7775.00  \n",
              "50%          30.00 10295.00  \n",
              "75%          34.00 16500.00  \n",
              "max          54.00 45400.00  "
            ]
          },
          "metadata": {
            "tags": []
          },
          "execution_count": 13
        }
      ]
    },
    {
      "metadata": {
        "id": "3pU9zynBiU0x",
        "colab_type": "text"
      },
      "cell_type": "markdown",
      "source": [
        "### Replacing NAN by zero\n",
        "When training a linear model using features that is numerical, we **cannot have `NaN` (doing so would cause overflow when training)**. Here we replace `NaN` (which corresponding to where we had missing entries) by 0."
      ]
    },
    {
      "metadata": {
        "id": "Fsg8khAgiUm9",
        "colab_type": "code",
        "colab": {
          "base_uri": "https://localhost:8080/",
          "height": 287
        },
        "outputId": "c8adffe7-e3d5-4f76-8c98-cb727fb786f3"
      },
      "cell_type": "code",
      "source": [
        "# Replace nan by the mean storing the solution in the same table (`inplace')\n",
        "car_data.fillna(0, inplace=True)\n",
        "car_data.describe()"
      ],
      "execution_count": 15,
      "outputs": [
        {
          "output_type": "execute_result",
          "data": {
            "text/html": [
              "<div>\n",
              "<style scoped>\n",
              "    .dataframe tbody tr th:only-of-type {\n",
              "        vertical-align: middle;\n",
              "    }\n",
              "\n",
              "    .dataframe tbody tr th {\n",
              "        vertical-align: top;\n",
              "    }\n",
              "\n",
              "    .dataframe thead th {\n",
              "        text-align: right;\n",
              "    }\n",
              "</style>\n",
              "<table border=\"1\" class=\"dataframe\">\n",
              "  <thead>\n",
              "    <tr style=\"text-align: right;\">\n",
              "      <th></th>\n",
              "      <th>symboling</th>\n",
              "      <th>losses</th>\n",
              "      <th>wheel-base</th>\n",
              "      <th>length</th>\n",
              "      <th>width</th>\n",
              "      <th>height</th>\n",
              "      <th>weight</th>\n",
              "      <th>engine-size</th>\n",
              "      <th>compression-ratio</th>\n",
              "      <th>horsepower</th>\n",
              "      <th>peak-rpm</th>\n",
              "      <th>city-mpg</th>\n",
              "      <th>highway-mpg</th>\n",
              "      <th>price</th>\n",
              "    </tr>\n",
              "  </thead>\n",
              "  <tbody>\n",
              "    <tr>\n",
              "      <th>count</th>\n",
              "      <td>205.00</td>\n",
              "      <td>205.00</td>\n",
              "      <td>205.00</td>\n",
              "      <td>205.00</td>\n",
              "      <td>205.00</td>\n",
              "      <td>205.00</td>\n",
              "      <td>205.00</td>\n",
              "      <td>205.00</td>\n",
              "      <td>205.00</td>\n",
              "      <td>205.00</td>\n",
              "      <td>205.00</td>\n",
              "      <td>205.00</td>\n",
              "      <td>205.00</td>\n",
              "      <td>205.00</td>\n",
              "    </tr>\n",
              "    <tr>\n",
              "      <th>mean</th>\n",
              "      <td>0.83</td>\n",
              "      <td>97.60</td>\n",
              "      <td>98.76</td>\n",
              "      <td>174.05</td>\n",
              "      <td>65.91</td>\n",
              "      <td>53.72</td>\n",
              "      <td>2555.57</td>\n",
              "      <td>126.91</td>\n",
              "      <td>10.14</td>\n",
              "      <td>103.24</td>\n",
              "      <td>5075.37</td>\n",
              "      <td>25.22</td>\n",
              "      <td>30.75</td>\n",
              "      <td>12949.43</td>\n",
              "    </tr>\n",
              "    <tr>\n",
              "      <th>std</th>\n",
              "      <td>1.25</td>\n",
              "      <td>58.28</td>\n",
              "      <td>6.02</td>\n",
              "      <td>12.34</td>\n",
              "      <td>2.15</td>\n",
              "      <td>2.44</td>\n",
              "      <td>520.68</td>\n",
              "      <td>41.64</td>\n",
              "      <td>3.97</td>\n",
              "      <td>40.83</td>\n",
              "      <td>694.65</td>\n",
              "      <td>6.54</td>\n",
              "      <td>6.89</td>\n",
              "      <td>8079.04</td>\n",
              "    </tr>\n",
              "    <tr>\n",
              "      <th>min</th>\n",
              "      <td>-2.00</td>\n",
              "      <td>0.00</td>\n",
              "      <td>86.60</td>\n",
              "      <td>141.10</td>\n",
              "      <td>60.30</td>\n",
              "      <td>47.80</td>\n",
              "      <td>1488.00</td>\n",
              "      <td>61.00</td>\n",
              "      <td>7.00</td>\n",
              "      <td>0.00</td>\n",
              "      <td>0.00</td>\n",
              "      <td>13.00</td>\n",
              "      <td>16.00</td>\n",
              "      <td>0.00</td>\n",
              "    </tr>\n",
              "    <tr>\n",
              "      <th>25%</th>\n",
              "      <td>0.00</td>\n",
              "      <td>77.00</td>\n",
              "      <td>94.50</td>\n",
              "      <td>166.30</td>\n",
              "      <td>64.10</td>\n",
              "      <td>52.00</td>\n",
              "      <td>2145.00</td>\n",
              "      <td>97.00</td>\n",
              "      <td>8.60</td>\n",
              "      <td>70.00</td>\n",
              "      <td>4800.00</td>\n",
              "      <td>19.00</td>\n",
              "      <td>25.00</td>\n",
              "      <td>7689.00</td>\n",
              "    </tr>\n",
              "    <tr>\n",
              "      <th>50%</th>\n",
              "      <td>1.00</td>\n",
              "      <td>103.00</td>\n",
              "      <td>97.00</td>\n",
              "      <td>173.20</td>\n",
              "      <td>65.50</td>\n",
              "      <td>54.10</td>\n",
              "      <td>2414.00</td>\n",
              "      <td>120.00</td>\n",
              "      <td>9.00</td>\n",
              "      <td>95.00</td>\n",
              "      <td>5200.00</td>\n",
              "      <td>24.00</td>\n",
              "      <td>30.00</td>\n",
              "      <td>10198.00</td>\n",
              "    </tr>\n",
              "    <tr>\n",
              "      <th>75%</th>\n",
              "      <td>2.00</td>\n",
              "      <td>137.00</td>\n",
              "      <td>102.40</td>\n",
              "      <td>183.10</td>\n",
              "      <td>66.90</td>\n",
              "      <td>55.50</td>\n",
              "      <td>2935.00</td>\n",
              "      <td>141.00</td>\n",
              "      <td>9.40</td>\n",
              "      <td>116.00</td>\n",
              "      <td>5500.00</td>\n",
              "      <td>30.00</td>\n",
              "      <td>34.00</td>\n",
              "      <td>16500.00</td>\n",
              "    </tr>\n",
              "    <tr>\n",
              "      <th>max</th>\n",
              "      <td>3.00</td>\n",
              "      <td>256.00</td>\n",
              "      <td>120.90</td>\n",
              "      <td>208.10</td>\n",
              "      <td>72.30</td>\n",
              "      <td>59.80</td>\n",
              "      <td>4066.00</td>\n",
              "      <td>326.00</td>\n",
              "      <td>23.00</td>\n",
              "      <td>288.00</td>\n",
              "      <td>6600.00</td>\n",
              "      <td>49.00</td>\n",
              "      <td>54.00</td>\n",
              "      <td>45400.00</td>\n",
              "    </tr>\n",
              "  </tbody>\n",
              "</table>\n",
              "</div>"
            ],
            "text/plain": [
              "       symboling  losses  wheel-base  length  width  height  weight  \\\n",
              "count     205.00  205.00      205.00  205.00 205.00  205.00  205.00   \n",
              "mean        0.83   97.60       98.76  174.05  65.91   53.72 2555.57   \n",
              "std         1.25   58.28        6.02   12.34   2.15    2.44  520.68   \n",
              "min        -2.00    0.00       86.60  141.10  60.30   47.80 1488.00   \n",
              "25%         0.00   77.00       94.50  166.30  64.10   52.00 2145.00   \n",
              "50%         1.00  103.00       97.00  173.20  65.50   54.10 2414.00   \n",
              "75%         2.00  137.00      102.40  183.10  66.90   55.50 2935.00   \n",
              "max         3.00  256.00      120.90  208.10  72.30   59.80 4066.00   \n",
              "\n",
              "       engine-size  compression-ratio  horsepower  peak-rpm  city-mpg  \\\n",
              "count       205.00             205.00      205.00    205.00    205.00   \n",
              "mean        126.91              10.14      103.24   5075.37     25.22   \n",
              "std          41.64               3.97       40.83    694.65      6.54   \n",
              "min          61.00               7.00        0.00      0.00     13.00   \n",
              "25%          97.00               8.60       70.00   4800.00     19.00   \n",
              "50%         120.00               9.00       95.00   5200.00     24.00   \n",
              "75%         141.00               9.40      116.00   5500.00     30.00   \n",
              "max         326.00              23.00      288.00   6600.00     49.00   \n",
              "\n",
              "       highway-mpg    price  \n",
              "count       205.00   205.00  \n",
              "mean         30.75 12949.43  \n",
              "std           6.89  8079.04  \n",
              "min          16.00     0.00  \n",
              "25%          25.00  7689.00  \n",
              "50%          30.00 10198.00  \n",
              "75%          34.00 16500.00  \n",
              "max          54.00 45400.00  "
            ]
          },
          "metadata": {
            "tags": []
          },
          "execution_count": 15
        }
      ]
    },
    {
      "metadata": {
        "id": "Ct-amQLex0oD",
        "colab_type": "text"
      },
      "cell_type": "markdown",
      "source": [
        "### Using a Scatter Plot to Visualize the Data\n",
        "\n",
        "We will begin by trying to predict the price using the horsepower.  Because we just have a single feature we can visualize the raw data using a scatter plot."
      ]
    },
    {
      "metadata": {
        "id": "yq5AhcxEx3TC",
        "colab_type": "code",
        "colab": {
          "base_uri": "https://localhost:8080/",
          "height": 361
        },
        "outputId": "e0cf9003-b11e-46a7-f29f-cba652d2445f"
      },
      "cell_type": "code",
      "source": [
        "INPUT_FEATURE = \"horsepower\"\n",
        "LABEL = \"price\"\n",
        "\n",
        "plt.ylabel(LABEL)\n",
        "plt.xlabel(INPUT_FEATURE)\n",
        "plt.scatter(car_data[INPUT_FEATURE], car_data[LABEL], c='black')\n",
        "plt.show()"
      ],
      "execution_count": 18,
      "outputs": [
        {
          "output_type": "display_data",
          "data": {
            "image/png": "[encoded data removed]",
            "text/plain": [
              "<matplotlib.figure.Figure at 0x7f2a8d03ad90>"
            ]
          },
          "metadata": {
            "tags": []
          }
        }
      ]
    },
    {
      "metadata": {
        "id": "LgjPhuWBKC2z",
        "colab_type": "text"
      },
      "cell_type": "markdown",
      "source": [
        "###Using numpy polyfit to find the line that minimizes RMSE\n",
        "For the task of finding a line that minimizes the squared error with respect to a set of points, using SGD is not the most efficient method but it will be useful in that it can be applied to much more complex problems.  As a tool to help see what the optimal solution looks like we wil use `polyfit` to compute the optimal solution and then add that to our plot."
      ]
    },
    {
      "metadata": {
        "id": "GqGOYfA2L6LX",
        "colab_type": "code",
        "colab": {
          "base_uri": "https://localhost:8080/",
          "height": 34
        },
        "outputId": "5c52241e-0920-45ef-c7e6-1365fc7ed3d3"
      },
      "cell_type": "code",
      "source": [
        "x = car_data[INPUT_FEATURE]\n",
        "y = car_data[LABEL]\n",
        "opt = np.polyfit(x, y, 1)\n",
        "y_pred = opt[0] * x + opt[1]\n",
        "opt_rmse = math.sqrt(metrics.mean_squared_error(y_pred, y))\n",
        "slope = opt[0]\n",
        "bias = opt[1]\n",
        "print \"Optimal RMSE =\", opt_rmse, \"for solution\", opt"
      ],
      "execution_count": 19,
      "outputs": [
        {
          "output_type": "stream",
          "text": [
            "Optimal RMSE = 5823.49486942 for solution [  136.77704681 -1171.29960347]\n"
          ],
          "name": "stdout"
        }
      ]
    },
    {
      "metadata": {
        "id": "U7qT33YbG3Jf",
        "colab_type": "text"
      },
      "cell_type": "markdown",
      "source": [
        "### Showing A Linear Regression Model in a Scatter Plot\n",
        "To help provide intuition to what is being learned by a linear regression model and as a way to visualzize the quality, we provide a method to create the scatter plot of a single input feature with respect to the label feature.  In addition, a set of lines (from different linear regression models) as provided as a list of slopes, biases and model_names for the legend can be provided."
      ]
    },
    {
      "metadata": {
        "id": "uTzgIq_hZL0m",
        "colab_type": "code",
        "colab": {}
      },
      "cell_type": "code",
      "source": [
        "def make_scatter_plot(dataframe, input_feature, target,\n",
        "                      slopes=[], biases=[], model_names=[]):\n",
        "  \"\"\" Creates a scatter plot of input_feature vs target along with the models.\n",
        "  \n",
        "  Args:\n",
        "    dataframe: the dataframe to visualize\n",
        "    input_feature: the input feature to be used for the x-axis\n",
        "    target: the target to be used for the y-axis\n",
        "    slopes: list of model weight (slope) \n",
        "    bias: list of model bias (same size as slopes)\n",
        "    model_names: list of model_names to use for legend (same size as slopes)\n",
        "  \"\"\"      \n",
        "  # Define some colors to use that go from blue towards red\n",
        "  colors = [cm.coolwarm(x) for x in np.linspace(0, 1, len(slopes))]\n",
        "  print colors\n",
        "  \n",
        "  # Generate the Scatter plot\n",
        "  x = dataframe[input_feature]\n",
        "  y = dataframe[target]\n",
        "  plt.ylabel(target)\n",
        "  plt.xlabel(input_feature)\n",
        "  plt.scatter(x, y, color='black', label=\"\")\n",
        "\n",
        "  # Add the lines corresponding to the provided models\n",
        "  for i in range (0, len(slopes)):\n",
        "    y_0 = slopes[i] * x.min() + biases[i]\n",
        "    y_1 = slopes[i] * x.max() + biases[i]\n",
        "    plt.plot([x.min(), x.max()], [y_0, y_1],\n",
        "             label=model_names[i], color=colors[i])\n",
        "  if (len(model_names) > 0):\n",
        "    plt.legend(bbox_to_anchor=(1.05, 1), loc=2, borderaxespad=0.)"
      ],
      "execution_count": 0,
      "outputs": []
    },
    {
      "metadata": {
        "id": "aVlGG6cRINfP",
        "colab_type": "code",
        "colab": {
          "base_uri": "https://localhost:8080/",
          "height": 378
        },
        "outputId": "a8bcad06-9fa9-4030-ba96-281b3144b17a"
      },
      "cell_type": "code",
      "source": [
        "\n",
        "make_scatter_plot(car_data,INPUT_FEATURE, LABEL,\n",
        "                  [slope], [bias], [\"initial model\"])\n"
      ],
      "execution_count": 48,
      "outputs": [
        {
          "output_type": "stream",
          "text": [
            "[(0.2298057, 0.298717966, 0.753683153, 1.0)]\n"
          ],
          "name": "stdout"
        },
        {
          "output_type": "display_data",
          "data": {
            "image/png": "[encoded data removed]",
            "text/plain": [
              "<matplotlib.figure.Figure at 0x7f2a8a206250>"
            ]
          },
          "metadata": {
            "tags": []
          }
        }
      ]
    },
    {
      "metadata": {
        "id": "XPBoFxzRSHol",
        "colab_type": "text"
      },
      "cell_type": "markdown",
      "source": [
        "## Task 1: Create a scatter plot for new features (1 Point)\n",
        "\n",
        "Create a scatter plot with price as the input feature and losses as the label where the line optimizing the squared loss is shown.  We've gotten you started.  You just need to copy the appropriate lines from above.  **Save the slope and bias from this line to be used in a later task.**"
      ]
    },
    {
      "metadata": {
        "id": "P64o23hPSZ5N",
        "colab_type": "code",
        "colab": {
          "base_uri": "https://localhost:8080/",
          "height": 346
        },
        "outputId": "3f289a20-8e21-4211-f853-4d5cad9e0acf"
      },
      "cell_type": "code",
      "source": [
        "INPUT_FEATURE = \"price\"\n",
        "LABEL = \"losses\"\n",
        "\n",
        "# Fill in the rest of this block.\n",
        "plt.xlabel=INPUT_FEATURE\n",
        "plt.ylabel=LABEL\n",
        "plt.scatter(car_data[INPUT_FEATURE],car_data[LABEL],color='blue')\n",
        "plt.show()\n",
        "\n"
      ],
      "execution_count": 49,
      "outputs": [
        {
          "output_type": "display_data",
          "data": {
            "image/png": "[encoded data removed]",
            "text/plain": [
              "<matplotlib.figure.Figure at 0x7f2a8a1b7290>"
            ]
          },
          "metadata": {
            "tags": []
          }
        }
      ]
    },
    {
      "metadata": {
        "id": "hYamoYZmLENA",
        "colab_type": "text"
      },
      "cell_type": "markdown",
      "source": [
        "## Task 2: Explain what you see (1 point)\n",
        "\n",
        "Explain why we are seeing so many points along the line `y=0`.\n",
        "\n",
        "----------------------------\n",
        "\n",
        "**Because there are many rows which does not have losses value, so for those rows we changed the unknown value to NaN and finally changed the NaN to 0**"
      ]
    },
    {
      "metadata": {
        "id": "QZLePi8V8za1",
        "colab_type": "text"
      },
      "cell_type": "markdown",
      "source": [
        "##Task 3: Options to handle missing data (3 Points)\n",
        "\n",
        "In this task you will explore alternate ways to handle missing data. When training a linear model using features that are numerical, we **cannot have `NaN` (doing so would cause overflow when training)**. One option is to just discard any rows with any missing entries but often this would not leave enough data.  Here we explore ways to handle the missing data without just discarding it.\n",
        "\n",
        "Note that when you get a column of a dataframe (e.g. car_data[\"price']), you get a `Series`.  Read [http://pandas.pydata.org/pandas-docs/version/0.18.1/api.html#computations-descriptive-stats](http://pandas.pydata.org/pandas-docs/version/0.18.1/api.html#computations-descriptive-stats) and think about if you see any statistics for a column that might make a better choice than 0 for filling in the missing entries.What do you think would work best?\n",
        "\n",
        "Modify the code to use the function you selected to replace missings instead of just using 0 and both look at the scatter plot and the line minimizing RMSE both with the missings replaced by 0 and the missing entries replaced by the option you pick.  Feel free to show multiple options as a tool to help you explain your choice of which you think is best..  What option do you think is best and why?\n"
      ]
    },
    {
      "metadata": {
        "id": "83z_EMLGVoUp",
        "colab_type": "code",
        "colab": {}
      },
      "cell_type": "code",
      "source": [
        "# Load in the data from a CSV file that is comma seperated.\n",
        "car_data_v2 = pd.read_csv('https://storage.googleapis.com/ml_universities/cars_dataset/cars_data.csv',\n",
        "                           sep=',', names=cols, header=None, encoding='latin-1')\n",
        "car_data_v2['price'] = pd.to_numeric(car_data_v2['price'], errors='coerce')\n",
        "car_data_v2['losses'] = pd.to_numeric(car_data_v2['losses'], errors='coerce')"
      ],
      "execution_count": 0,
      "outputs": []
    },
    {
      "metadata": {
        "id": "fQzTdE24VbB5",
        "colab_type": "code",
        "colab": {}
      },
      "cell_type": "code",
      "source": [
        "# Fill in what you want to do with the nan here\n",
        "\n",
        "car_data_v2.head(20)\n",
        "car_data_v2['losses'].describe()  #mean: 122\n",
        "car_data_v2['price'].describe()   #mean: 13207.13\n",
        "car_data_v2['losses'].fillna(122.0, inplace=True)\n",
        "car_data_v2['price'].fillna(13207.13, inplace=True)\n",
        "\n"
      ],
      "execution_count": 0,
      "outputs": []
    },
    {
      "metadata": {
        "id": "ExbogDLANDQr",
        "colab_type": "code",
        "colab": {
          "base_uri": "https://localhost:8080/",
          "height": 346
        },
        "outputId": "a00f0ae0-4cb5-4b0d-ec58-2a98866cd17b"
      },
      "cell_type": "code",
      "source": [
        "# Create a scatter plot with the model from above (when NA replaced by 0) and at least one other option.\n",
        "INPUT_FEATURE = \"price\"\n",
        "LABEL = \"losses\"\n",
        "\n",
        "# Fill in the rest of this block.\n",
        "plt.xlabel=INPUT_FEATURE\n",
        "plt.ylabel=LABEL\n",
        "plt.scatter(car_data_v2[INPUT_FEATURE],car_data_v2[LABEL],color='blue')\n",
        "plt.show()"
      ],
      "execution_count": 86,
      "outputs": [
        {
          "output_type": "display_data",
          "data": {
            "image/png": "[encoded data removed]",
            "text/plain": [
              "<matplotlib.figure.Figure at 0x7f2a8cf9f7d0>"
            ]
          },
          "metadata": {
            "tags": []
          }
        }
      ]
    },
    {
      "metadata": {
        "id": "vEXKjXMZRv-q",
        "colab_type": "text"
      },
      "cell_type": "markdown",
      "source": [
        "-----------------\n",
        "\n",
        "**We can replace the NaN value with the mean value of columns as mean value fall in between the 50% - 75% percent of the data.**"
      ]
    }
  ]
}